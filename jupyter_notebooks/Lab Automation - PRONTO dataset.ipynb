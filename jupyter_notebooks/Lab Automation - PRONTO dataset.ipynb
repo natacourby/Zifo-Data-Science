{
 "cells": [
  {
   "cell_type": "markdown",
   "id": "54b910ea",
   "metadata": {},
   "source": [
    "# PRONTO heterogeneous benchmark dataset\n",
    "The PRONTO heterogeneous benchmark dataset is based on an industrial-scale multiphase flow facility. It includes data from heterogeneous sources, including process measurements, alarm records, high frequency ultrasonic flow and pressure measurements, an operation log and video recordings. The study collected data from various operational conditions with and without induced faults to generate a multi-rate, multi-modal dataset. The dataset is suitable for developing and validating algorithms for fault detection and diagnosis (FDD) and data fusion. \n",
    "\n",
    "Data type|Sampling rate|Storage policy\n",
    ":---:|:---:|:---:\n",
    "Process measurements|1Hz|Regularly sampled\n",
    "Alarm, event, change logs|Event-driven|Discrete events\n",
    "Ultrasonic flow measurements|10 kHz|60 s recordings\n",
    "High frequency pressure measurements|5 kHz|60 s recordings\n",
    "Videos|–|30–60 s recordings\n",
    "\n",
    "Preprocessed data are available here: ../data/\n",
    "\n",
    "Full dataset: https://zenodo.org/record/1341583#.YaX52cfP23B\n",
    "\n",
    "Publication: https://www.sciencedirect.com/science/article/pii/S0959152418303603#bib0035"
   ]
  },
  {
   "cell_type": "markdown",
   "id": "09364d4b",
   "metadata": {},
   "source": [
    "Loading pre-processed data.\n",
    "\n",
    "Pre-processing is done to align and label alarm and process data:\n",
    "* Extract binary features from the alarm data:\n",
    "    FIC301,FIC302,LI405,LI502,PT312,VC303,VC401,VC403,VC404,VC405,VC406,VLV303 are present in the the alarm logs\n",
    "    Each alarm log contains the timestamp, the corresponding sensor tag and status information, whether they are \n",
    "    active or inactive. The alarm log entires are transformed into a binary form: \n",
    "    The binary alarm value of alarm Aik is 0 if no active Ai for timestamp k and no previous active Ai; or latest Ai was inactive.\n",
    "    The binary alarm value of alarm Aik is 1 if no active Ai for timestamp k and latest Ai was active; or active Ai for timestamp k.\n",
    "    See output files: alarmsfault07092017_proc.csv, alarmsonly11092017_proc.csv, alarmsonly12092017_proc.csv\n",
    "\n",
    "* Order alarms in historical orders from least recent to most recent. (The alarm log contains entries with decreasing time stamps)\n",
    "\n",
    "* Merge alarm and process data by timestamp\n",
    "\n",
    "* Create one input water and air flow rate column based on the opeartion log\n",
    "\n",
    "* Label data by health condition based on the opertion log"
   ]
  },
  {
   "cell_type": "code",
   "execution_count": 43,
   "id": "6cbeac32",
   "metadata": {},
   "outputs": [],
   "source": [
    "import matplotlib.pyplot as plt\n",
    "import numpy as np\n",
    "import pandas as pd\n",
    "from sklearn.model_selection import TimeSeriesSplit\n",
    "from sklearn.model_selection import train_test_split\n",
    "from sklearn.metrics import precision_score, recall_score, accuracy_score, f1_score, classification_report\n",
    "# Dickey-Fuller test\n",
    "from statsmodels.tsa.stattools import adfuller\n",
    "# Auto Associative Kernel Regression\n",
    "from aakr import AAKR\n",
    "# PCA and PCR\n",
    "from sklearn.linear_model import LinearRegression\n",
    "from sklearn.decomposition import PCA\n",
    "from sklearn.preprocessing import StandardScaler\n",
    "# Logistic Regression\n",
    "from sklearn.linear_model import LogisticRegression\n",
    "# Random Forests\n",
    "from sklearn.ensemble import RandomForestClassifier\n",
    "from sklearn import preprocessing\n",
    "from sklearn.inspection import permutation_importance\n",
    "# SVM\n",
    "from sklearn import svm"
   ]
  },
  {
   "cell_type": "code",
   "execution_count": 44,
   "id": "3dc40c37",
   "metadata": {},
   "outputs": [],
   "source": [
    "from IPython.display import Markdown, display\n",
    "def printmd(string):\n",
    "    display(Markdown(string))"
   ]
  },
  {
   "cell_type": "code",
   "execution_count": 45,
   "id": "6072a9ab",
   "metadata": {
    "scrolled": false
   },
   "outputs": [
    {
     "data": {
      "text/html": [
       "<div>\n",
       "<style scoped>\n",
       "    .dataframe tbody tr th:only-of-type {\n",
       "        vertical-align: middle;\n",
       "    }\n",
       "\n",
       "    .dataframe tbody tr th {\n",
       "        vertical-align: top;\n",
       "    }\n",
       "\n",
       "    .dataframe thead th {\n",
       "        text-align: right;\n",
       "    }\n",
       "</style>\n",
       "<table border=\"1\" class=\"dataframe\">\n",
       "  <thead>\n",
       "    <tr style=\"text-align: right;\">\n",
       "      <th></th>\n",
       "      <th>FIC301</th>\n",
       "      <th>FIC302</th>\n",
       "      <th>LI405</th>\n",
       "      <th>LI502</th>\n",
       "      <th>PT312</th>\n",
       "      <th>VC303</th>\n",
       "      <th>VC401</th>\n",
       "      <th>VC403</th>\n",
       "      <th>VC404</th>\n",
       "      <th>VC405</th>\n",
       "      <th>...</th>\n",
       "      <th>P.topsep</th>\n",
       "      <th>FR.topsep.gas</th>\n",
       "      <th>FR.topsep.liquid</th>\n",
       "      <th>P_3phase</th>\n",
       "      <th>Air.Valve</th>\n",
       "      <th>Water.level</th>\n",
       "      <th>Water.coalescer</th>\n",
       "      <th>Water.level.valve</th>\n",
       "      <th>water.tank.level</th>\n",
       "      <th>Fault</th>\n",
       "    </tr>\n",
       "  </thead>\n",
       "  <tbody>\n",
       "    <tr>\n",
       "      <th>0</th>\n",
       "      <td>0</td>\n",
       "      <td>0</td>\n",
       "      <td>1</td>\n",
       "      <td>0</td>\n",
       "      <td>0</td>\n",
       "      <td>0</td>\n",
       "      <td>0</td>\n",
       "      <td>0</td>\n",
       "      <td>0</td>\n",
       "      <td>0</td>\n",
       "      <td>...</td>\n",
       "      <td>1.027175</td>\n",
       "      <td>0.000491</td>\n",
       "      <td>0.064845</td>\n",
       "      <td>1.005916</td>\n",
       "      <td>25.092310</td>\n",
       "      <td>62.243111</td>\n",
       "      <td>98.642677</td>\n",
       "      <td>2.257356</td>\n",
       "      <td>1.443121</td>\n",
       "      <td>Normal</td>\n",
       "    </tr>\n",
       "    <tr>\n",
       "      <th>1</th>\n",
       "      <td>0</td>\n",
       "      <td>0</td>\n",
       "      <td>1</td>\n",
       "      <td>0</td>\n",
       "      <td>0</td>\n",
       "      <td>0</td>\n",
       "      <td>0</td>\n",
       "      <td>0</td>\n",
       "      <td>0</td>\n",
       "      <td>0</td>\n",
       "      <td>...</td>\n",
       "      <td>1.027277</td>\n",
       "      <td>0.000483</td>\n",
       "      <td>0.095639</td>\n",
       "      <td>1.006192</td>\n",
       "      <td>25.099390</td>\n",
       "      <td>62.235279</td>\n",
       "      <td>98.644371</td>\n",
       "      <td>2.278575</td>\n",
       "      <td>1.443152</td>\n",
       "      <td>Normal</td>\n",
       "    </tr>\n",
       "    <tr>\n",
       "      <th>2</th>\n",
       "      <td>0</td>\n",
       "      <td>0</td>\n",
       "      <td>1</td>\n",
       "      <td>0</td>\n",
       "      <td>0</td>\n",
       "      <td>0</td>\n",
       "      <td>0</td>\n",
       "      <td>0</td>\n",
       "      <td>0</td>\n",
       "      <td>0</td>\n",
       "      <td>...</td>\n",
       "      <td>1.028881</td>\n",
       "      <td>0.000476</td>\n",
       "      <td>0.095639</td>\n",
       "      <td>1.006467</td>\n",
       "      <td>25.106461</td>\n",
       "      <td>62.227440</td>\n",
       "      <td>98.646057</td>\n",
       "      <td>2.299793</td>\n",
       "      <td>1.443183</td>\n",
       "      <td>Normal</td>\n",
       "    </tr>\n",
       "    <tr>\n",
       "      <th>3</th>\n",
       "      <td>0</td>\n",
       "      <td>0</td>\n",
       "      <td>1</td>\n",
       "      <td>0</td>\n",
       "      <td>0</td>\n",
       "      <td>0</td>\n",
       "      <td>0</td>\n",
       "      <td>0</td>\n",
       "      <td>0</td>\n",
       "      <td>0</td>\n",
       "      <td>...</td>\n",
       "      <td>1.028640</td>\n",
       "      <td>0.000468</td>\n",
       "      <td>0.076789</td>\n",
       "      <td>1.006743</td>\n",
       "      <td>25.113529</td>\n",
       "      <td>62.219608</td>\n",
       "      <td>98.647758</td>\n",
       "      <td>2.321012</td>\n",
       "      <td>1.443214</td>\n",
       "      <td>Normal</td>\n",
       "    </tr>\n",
       "    <tr>\n",
       "      <th>4</th>\n",
       "      <td>0</td>\n",
       "      <td>0</td>\n",
       "      <td>1</td>\n",
       "      <td>0</td>\n",
       "      <td>0</td>\n",
       "      <td>0</td>\n",
       "      <td>0</td>\n",
       "      <td>0</td>\n",
       "      <td>0</td>\n",
       "      <td>0</td>\n",
       "      <td>...</td>\n",
       "      <td>1.028400</td>\n",
       "      <td>0.000461</td>\n",
       "      <td>0.076789</td>\n",
       "      <td>1.006743</td>\n",
       "      <td>25.120600</td>\n",
       "      <td>62.262520</td>\n",
       "      <td>98.649452</td>\n",
       "      <td>2.399387</td>\n",
       "      <td>1.443244</td>\n",
       "      <td>Normal</td>\n",
       "    </tr>\n",
       "  </tbody>\n",
       "</table>\n",
       "<p>5 rows × 30 columns</p>\n",
       "</div>"
      ],
      "text/plain": [
       "   FIC301  FIC302  LI405  LI502  PT312  VC303  VC401  VC403  VC404  VC405  \\\n",
       "0       0       0      1      0      0      0      0      0      0      0   \n",
       "1       0       0      1      0      0      0      0      0      0      0   \n",
       "2       0       0      1      0      0      0      0      0      0      0   \n",
       "3       0       0      1      0      0      0      0      0      0      0   \n",
       "4       0       0      1      0      0      0      0      0      0      0   \n",
       "\n",
       "   ...  P.topsep  FR.topsep.gas  FR.topsep.liquid  P_3phase  Air.Valve  \\\n",
       "0  ...  1.027175       0.000491          0.064845  1.005916  25.092310   \n",
       "1  ...  1.027277       0.000483          0.095639  1.006192  25.099390   \n",
       "2  ...  1.028881       0.000476          0.095639  1.006467  25.106461   \n",
       "3  ...  1.028640       0.000468          0.076789  1.006743  25.113529   \n",
       "4  ...  1.028400       0.000461          0.076789  1.006743  25.120600   \n",
       "\n",
       "   Water.level  Water.coalescer  Water.level.valve  water.tank.level   Fault  \n",
       "0    62.243111        98.642677           2.257356          1.443121  Normal  \n",
       "1    62.235279        98.644371           2.278575          1.443152  Normal  \n",
       "2    62.227440        98.646057           2.299793          1.443183  Normal  \n",
       "3    62.219608        98.647758           2.321012          1.443214  Normal  \n",
       "4    62.262520        98.649452           2.399387          1.443244  Normal  \n",
       "\n",
       "[5 rows x 30 columns]"
      ]
     },
     "execution_count": 45,
     "metadata": {},
     "output_type": "execute_result"
    }
   ],
   "source": [
    "# Test day 2 (Fault: Air Blockage Test2, Test3 & Air Leakage Test4)\n",
    "df1 = pd.read_csv(\"..\\\\data\\\\Testday2_merged.csv\", sep = \",\")\n",
    "df1.head()"
   ]
  },
  {
   "cell_type": "code",
   "execution_count": 46,
   "id": "fb146181",
   "metadata": {},
   "outputs": [
    {
     "data": {
      "text/html": [
       "<div>\n",
       "<style scoped>\n",
       "    .dataframe tbody tr th:only-of-type {\n",
       "        vertical-align: middle;\n",
       "    }\n",
       "\n",
       "    .dataframe tbody tr th {\n",
       "        vertical-align: top;\n",
       "    }\n",
       "\n",
       "    .dataframe thead th {\n",
       "        text-align: right;\n",
       "    }\n",
       "</style>\n",
       "<table border=\"1\" class=\"dataframe\">\n",
       "  <thead>\n",
       "    <tr style=\"text-align: right;\">\n",
       "      <th></th>\n",
       "      <th>FIC301</th>\n",
       "      <th>FIC302</th>\n",
       "      <th>LI405</th>\n",
       "      <th>LI505</th>\n",
       "      <th>PT312</th>\n",
       "      <th>VC303</th>\n",
       "      <th>VC401</th>\n",
       "      <th>VC403</th>\n",
       "      <th>VC404</th>\n",
       "      <th>VC405</th>\n",
       "      <th>...</th>\n",
       "      <th>P.topsep</th>\n",
       "      <th>FR.topsep.gas</th>\n",
       "      <th>FR.topsep.liquid</th>\n",
       "      <th>P_3phase</th>\n",
       "      <th>Air.Valve</th>\n",
       "      <th>Water.level</th>\n",
       "      <th>Water.coalescer</th>\n",
       "      <th>Water.level.valve</th>\n",
       "      <th>water.tank.level</th>\n",
       "      <th>Fault</th>\n",
       "    </tr>\n",
       "  </thead>\n",
       "  <tbody>\n",
       "    <tr>\n",
       "      <th>0</th>\n",
       "      <td>0</td>\n",
       "      <td>0</td>\n",
       "      <td>0</td>\n",
       "      <td>0</td>\n",
       "      <td>0</td>\n",
       "      <td>0</td>\n",
       "      <td>0</td>\n",
       "      <td>0</td>\n",
       "      <td>0</td>\n",
       "      <td>0</td>\n",
       "      <td>...</td>\n",
       "      <td>1.024576</td>\n",
       "      <td>0.090642</td>\n",
       "      <td>0.063302</td>\n",
       "      <td>1.004279</td>\n",
       "      <td>24.913710</td>\n",
       "      <td>61.413651</td>\n",
       "      <td>98.675041</td>\n",
       "      <td>0.162422</td>\n",
       "      <td>1.447658</td>\n",
       "      <td>Normal</td>\n",
       "    </tr>\n",
       "    <tr>\n",
       "      <th>1</th>\n",
       "      <td>0</td>\n",
       "      <td>0</td>\n",
       "      <td>0</td>\n",
       "      <td>0</td>\n",
       "      <td>0</td>\n",
       "      <td>0</td>\n",
       "      <td>0</td>\n",
       "      <td>0</td>\n",
       "      <td>0</td>\n",
       "      <td>0</td>\n",
       "      <td>...</td>\n",
       "      <td>1.024435</td>\n",
       "      <td>0.090642</td>\n",
       "      <td>0.072116</td>\n",
       "      <td>1.004258</td>\n",
       "      <td>24.917240</td>\n",
       "      <td>61.425671</td>\n",
       "      <td>98.671982</td>\n",
       "      <td>0.169636</td>\n",
       "      <td>1.447643</td>\n",
       "      <td>Normal</td>\n",
       "    </tr>\n",
       "    <tr>\n",
       "      <th>2</th>\n",
       "      <td>0</td>\n",
       "      <td>0</td>\n",
       "      <td>0</td>\n",
       "      <td>0</td>\n",
       "      <td>0</td>\n",
       "      <td>0</td>\n",
       "      <td>0</td>\n",
       "      <td>0</td>\n",
       "      <td>0</td>\n",
       "      <td>0</td>\n",
       "      <td>...</td>\n",
       "      <td>1.024295</td>\n",
       "      <td>0.061328</td>\n",
       "      <td>0.080931</td>\n",
       "      <td>1.004238</td>\n",
       "      <td>24.920759</td>\n",
       "      <td>61.440929</td>\n",
       "      <td>98.668907</td>\n",
       "      <td>0.176850</td>\n",
       "      <td>1.447628</td>\n",
       "      <td>Normal</td>\n",
       "    </tr>\n",
       "    <tr>\n",
       "      <th>3</th>\n",
       "      <td>0</td>\n",
       "      <td>0</td>\n",
       "      <td>0</td>\n",
       "      <td>0</td>\n",
       "      <td>0</td>\n",
       "      <td>0</td>\n",
       "      <td>0</td>\n",
       "      <td>0</td>\n",
       "      <td>0</td>\n",
       "      <td>0</td>\n",
       "      <td>...</td>\n",
       "      <td>1.024155</td>\n",
       "      <td>0.061328</td>\n",
       "      <td>0.082854</td>\n",
       "      <td>1.004217</td>\n",
       "      <td>24.924290</td>\n",
       "      <td>61.456188</td>\n",
       "      <td>98.665848</td>\n",
       "      <td>0.163235</td>\n",
       "      <td>1.447613</td>\n",
       "      <td>Normal</td>\n",
       "    </tr>\n",
       "    <tr>\n",
       "      <th>4</th>\n",
       "      <td>0</td>\n",
       "      <td>0</td>\n",
       "      <td>0</td>\n",
       "      <td>0</td>\n",
       "      <td>0</td>\n",
       "      <td>0</td>\n",
       "      <td>0</td>\n",
       "      <td>0</td>\n",
       "      <td>0</td>\n",
       "      <td>0</td>\n",
       "      <td>...</td>\n",
       "      <td>1.024014</td>\n",
       "      <td>0.040729</td>\n",
       "      <td>0.084776</td>\n",
       "      <td>1.004196</td>\n",
       "      <td>24.927820</td>\n",
       "      <td>61.471439</td>\n",
       "      <td>98.662781</td>\n",
       "      <td>0.149621</td>\n",
       "      <td>1.447598</td>\n",
       "      <td>Normal</td>\n",
       "    </tr>\n",
       "  </tbody>\n",
       "</table>\n",
       "<p>5 rows × 30 columns</p>\n",
       "</div>"
      ],
      "text/plain": [
       "   FIC301  FIC302  LI405  LI505  PT312  VC303  VC401  VC403  VC404  VC405  \\\n",
       "0       0       0      0      0      0      0      0      0      0      0   \n",
       "1       0       0      0      0      0      0      0      0      0      0   \n",
       "2       0       0      0      0      0      0      0      0      0      0   \n",
       "3       0       0      0      0      0      0      0      0      0      0   \n",
       "4       0       0      0      0      0      0      0      0      0      0   \n",
       "\n",
       "   ...  P.topsep  FR.topsep.gas  FR.topsep.liquid  P_3phase  Air.Valve  \\\n",
       "0  ...  1.024576       0.090642          0.063302  1.004279  24.913710   \n",
       "1  ...  1.024435       0.090642          0.072116  1.004258  24.917240   \n",
       "2  ...  1.024295       0.061328          0.080931  1.004238  24.920759   \n",
       "3  ...  1.024155       0.061328          0.082854  1.004217  24.924290   \n",
       "4  ...  1.024014       0.040729          0.084776  1.004196  24.927820   \n",
       "\n",
       "   Water.level  Water.coalescer  Water.level.valve  water.tank.level   Fault  \n",
       "0    61.413651        98.675041           0.162422          1.447658  Normal  \n",
       "1    61.425671        98.671982           0.169636          1.447643  Normal  \n",
       "2    61.440929        98.668907           0.176850          1.447628  Normal  \n",
       "3    61.456188        98.665848           0.163235          1.447613  Normal  \n",
       "4    61.471439        98.662781           0.149621          1.447598  Normal  \n",
       "\n",
       "[5 rows x 30 columns]"
      ]
     },
     "execution_count": 46,
     "metadata": {},
     "output_type": "execute_result"
    }
   ],
   "source": [
    "# Test day 3 (Fault: Air Leakage Test5, Test6 & Diverted Flow Test7, Test8)\n",
    "df2 = pd.read_csv(\"..\\\\data\\\\Testday3_merged.csv\", sep = \",\")\n",
    "df2.head()"
   ]
  },
  {
   "cell_type": "code",
   "execution_count": 47,
   "id": "4eaffc0d",
   "metadata": {},
   "outputs": [
    {
     "data": {
      "text/html": [
       "<div>\n",
       "<style scoped>\n",
       "    .dataframe tbody tr th:only-of-type {\n",
       "        vertical-align: middle;\n",
       "    }\n",
       "\n",
       "    .dataframe tbody tr th {\n",
       "        vertical-align: top;\n",
       "    }\n",
       "\n",
       "    .dataframe thead th {\n",
       "        text-align: right;\n",
       "    }\n",
       "</style>\n",
       "<table border=\"1\" class=\"dataframe\">\n",
       "  <thead>\n",
       "    <tr style=\"text-align: right;\">\n",
       "      <th></th>\n",
       "      <th>FIC301</th>\n",
       "      <th>FIC302</th>\n",
       "      <th>LI405</th>\n",
       "      <th>LI502</th>\n",
       "      <th>PT312</th>\n",
       "      <th>VC303</th>\n",
       "      <th>VC401</th>\n",
       "      <th>VC403</th>\n",
       "      <th>VC404</th>\n",
       "      <th>VC405</th>\n",
       "      <th>...</th>\n",
       "      <th>P.topsep</th>\n",
       "      <th>FR.topsep.gas</th>\n",
       "      <th>FR.topsep.liquid</th>\n",
       "      <th>P_3phase</th>\n",
       "      <th>Air.Valve</th>\n",
       "      <th>Water.level</th>\n",
       "      <th>Water.coalescer</th>\n",
       "      <th>Water.level.valve</th>\n",
       "      <th>water.tank.level</th>\n",
       "      <th>Fault</th>\n",
       "    </tr>\n",
       "  </thead>\n",
       "  <tbody>\n",
       "    <tr>\n",
       "      <th>0</th>\n",
       "      <td>0</td>\n",
       "      <td>0</td>\n",
       "      <td>1</td>\n",
       "      <td>0</td>\n",
       "      <td>0</td>\n",
       "      <td>0</td>\n",
       "      <td>0</td>\n",
       "      <td>0</td>\n",
       "      <td>0</td>\n",
       "      <td>0</td>\n",
       "      <td>...</td>\n",
       "      <td>1.019359</td>\n",
       "      <td>0.000280</td>\n",
       "      <td>0.0</td>\n",
       "      <td>0.998123</td>\n",
       "      <td>15.60613</td>\n",
       "      <td>53.431370</td>\n",
       "      <td>98.613892</td>\n",
       "      <td>0.0</td>\n",
       "      <td>1.444376</td>\n",
       "      <td>Slugging</td>\n",
       "    </tr>\n",
       "    <tr>\n",
       "      <th>1</th>\n",
       "      <td>0</td>\n",
       "      <td>0</td>\n",
       "      <td>1</td>\n",
       "      <td>0</td>\n",
       "      <td>0</td>\n",
       "      <td>0</td>\n",
       "      <td>0</td>\n",
       "      <td>0</td>\n",
       "      <td>0</td>\n",
       "      <td>0</td>\n",
       "      <td>...</td>\n",
       "      <td>1.019469</td>\n",
       "      <td>0.000266</td>\n",
       "      <td>0.0</td>\n",
       "      <td>0.998133</td>\n",
       "      <td>15.60219</td>\n",
       "      <td>53.397991</td>\n",
       "      <td>98.614326</td>\n",
       "      <td>0.0</td>\n",
       "      <td>1.444363</td>\n",
       "      <td>Slugging</td>\n",
       "    </tr>\n",
       "    <tr>\n",
       "      <th>2</th>\n",
       "      <td>0</td>\n",
       "      <td>0</td>\n",
       "      <td>1</td>\n",
       "      <td>0</td>\n",
       "      <td>0</td>\n",
       "      <td>0</td>\n",
       "      <td>0</td>\n",
       "      <td>0</td>\n",
       "      <td>0</td>\n",
       "      <td>0</td>\n",
       "      <td>...</td>\n",
       "      <td>1.019580</td>\n",
       "      <td>0.000252</td>\n",
       "      <td>0.0</td>\n",
       "      <td>0.998142</td>\n",
       "      <td>15.59825</td>\n",
       "      <td>53.399811</td>\n",
       "      <td>98.614754</td>\n",
       "      <td>0.0</td>\n",
       "      <td>1.444349</td>\n",
       "      <td>Slugging</td>\n",
       "    </tr>\n",
       "    <tr>\n",
       "      <th>3</th>\n",
       "      <td>0</td>\n",
       "      <td>0</td>\n",
       "      <td>1</td>\n",
       "      <td>0</td>\n",
       "      <td>0</td>\n",
       "      <td>0</td>\n",
       "      <td>0</td>\n",
       "      <td>0</td>\n",
       "      <td>0</td>\n",
       "      <td>0</td>\n",
       "      <td>...</td>\n",
       "      <td>1.019690</td>\n",
       "      <td>0.000238</td>\n",
       "      <td>0.0</td>\n",
       "      <td>0.998152</td>\n",
       "      <td>15.59431</td>\n",
       "      <td>53.401642</td>\n",
       "      <td>98.615189</td>\n",
       "      <td>0.0</td>\n",
       "      <td>1.444335</td>\n",
       "      <td>Slugging</td>\n",
       "    </tr>\n",
       "    <tr>\n",
       "      <th>4</th>\n",
       "      <td>0</td>\n",
       "      <td>0</td>\n",
       "      <td>1</td>\n",
       "      <td>0</td>\n",
       "      <td>0</td>\n",
       "      <td>0</td>\n",
       "      <td>0</td>\n",
       "      <td>0</td>\n",
       "      <td>0</td>\n",
       "      <td>0</td>\n",
       "      <td>...</td>\n",
       "      <td>1.019800</td>\n",
       "      <td>0.000224</td>\n",
       "      <td>0.0</td>\n",
       "      <td>0.998161</td>\n",
       "      <td>15.59037</td>\n",
       "      <td>53.403461</td>\n",
       "      <td>98.615623</td>\n",
       "      <td>0.0</td>\n",
       "      <td>1.444322</td>\n",
       "      <td>Slugging</td>\n",
       "    </tr>\n",
       "  </tbody>\n",
       "</table>\n",
       "<p>5 rows × 30 columns</p>\n",
       "</div>"
      ],
      "text/plain": [
       "   FIC301  FIC302  LI405  LI502  PT312  VC303  VC401  VC403  VC404  VC405  \\\n",
       "0       0       0      1      0      0      0      0      0      0      0   \n",
       "1       0       0      1      0      0      0      0      0      0      0   \n",
       "2       0       0      1      0      0      0      0      0      0      0   \n",
       "3       0       0      1      0      0      0      0      0      0      0   \n",
       "4       0       0      1      0      0      0      0      0      0      0   \n",
       "\n",
       "   ...  P.topsep  FR.topsep.gas  FR.topsep.liquid  P_3phase  Air.Valve  \\\n",
       "0  ...  1.019359       0.000280               0.0  0.998123   15.60613   \n",
       "1  ...  1.019469       0.000266               0.0  0.998133   15.60219   \n",
       "2  ...  1.019580       0.000252               0.0  0.998142   15.59825   \n",
       "3  ...  1.019690       0.000238               0.0  0.998152   15.59431   \n",
       "4  ...  1.019800       0.000224               0.0  0.998161   15.59037   \n",
       "\n",
       "   Water.level  Water.coalescer  Water.level.valve  water.tank.level     Fault  \n",
       "0    53.431370        98.613892                0.0          1.444376  Slugging  \n",
       "1    53.397991        98.614326                0.0          1.444363  Slugging  \n",
       "2    53.399811        98.614754                0.0          1.444349  Slugging  \n",
       "3    53.401642        98.615189                0.0          1.444335  Slugging  \n",
       "4    53.403461        98.615623                0.0          1.444322  Slugging  \n",
       "\n",
       "[5 rows x 30 columns]"
      ]
     },
     "execution_count": 47,
     "metadata": {},
     "output_type": "execute_result"
    }
   ],
   "source": [
    "# Test day 4 (Fault: Flow Conditions - Normal operating conditions Test9 + Slugging Test10)\n",
    "df3 = pd.read_csv(\"..\\\\data\\\\Testday4_merged.csv\", sep = \",\")\n",
    "df3.head()"
   ]
  },
  {
   "cell_type": "code",
   "execution_count": 6,
   "id": "d938e009",
   "metadata": {},
   "outputs": [
    {
     "data": {
      "text/html": [
       "<div>\n",
       "<style scoped>\n",
       "    .dataframe tbody tr th:only-of-type {\n",
       "        vertical-align: middle;\n",
       "    }\n",
       "\n",
       "    .dataframe tbody tr th {\n",
       "        vertical-align: top;\n",
       "    }\n",
       "\n",
       "    .dataframe thead th {\n",
       "        text-align: right;\n",
       "    }\n",
       "</style>\n",
       "<table border=\"1\" class=\"dataframe\">\n",
       "  <thead>\n",
       "    <tr style=\"text-align: right;\">\n",
       "      <th></th>\n",
       "      <th>FIC301</th>\n",
       "      <th>FIC302</th>\n",
       "      <th>LI405</th>\n",
       "      <th>PT312</th>\n",
       "      <th>VC303</th>\n",
       "      <th>VC401</th>\n",
       "      <th>VC403</th>\n",
       "      <th>VC404</th>\n",
       "      <th>VC405</th>\n",
       "      <th>VC406</th>\n",
       "      <th>...</th>\n",
       "      <th>P.topsep</th>\n",
       "      <th>FR.topsep.gas</th>\n",
       "      <th>FR.topsep.liquid</th>\n",
       "      <th>P_3phase</th>\n",
       "      <th>Air.Valve</th>\n",
       "      <th>Water.level</th>\n",
       "      <th>Water.coalescer</th>\n",
       "      <th>Water.level.valve</th>\n",
       "      <th>water.tank.level</th>\n",
       "      <th>Fault</th>\n",
       "    </tr>\n",
       "  </thead>\n",
       "  <tbody>\n",
       "    <tr>\n",
       "      <th>0</th>\n",
       "      <td>0</td>\n",
       "      <td>0</td>\n",
       "      <td>1</td>\n",
       "      <td>0</td>\n",
       "      <td>0</td>\n",
       "      <td>0</td>\n",
       "      <td>0</td>\n",
       "      <td>0</td>\n",
       "      <td>0</td>\n",
       "      <td>0</td>\n",
       "      <td>...</td>\n",
       "      <td>1.027175</td>\n",
       "      <td>0.000491</td>\n",
       "      <td>0.064845</td>\n",
       "      <td>1.005916</td>\n",
       "      <td>25.092310</td>\n",
       "      <td>62.243111</td>\n",
       "      <td>98.642677</td>\n",
       "      <td>2.257356</td>\n",
       "      <td>1.443121</td>\n",
       "      <td>Normal</td>\n",
       "    </tr>\n",
       "    <tr>\n",
       "      <th>1</th>\n",
       "      <td>0</td>\n",
       "      <td>0</td>\n",
       "      <td>1</td>\n",
       "      <td>0</td>\n",
       "      <td>0</td>\n",
       "      <td>0</td>\n",
       "      <td>0</td>\n",
       "      <td>0</td>\n",
       "      <td>0</td>\n",
       "      <td>0</td>\n",
       "      <td>...</td>\n",
       "      <td>1.027277</td>\n",
       "      <td>0.000483</td>\n",
       "      <td>0.095639</td>\n",
       "      <td>1.006192</td>\n",
       "      <td>25.099390</td>\n",
       "      <td>62.235279</td>\n",
       "      <td>98.644371</td>\n",
       "      <td>2.278575</td>\n",
       "      <td>1.443152</td>\n",
       "      <td>Normal</td>\n",
       "    </tr>\n",
       "    <tr>\n",
       "      <th>2</th>\n",
       "      <td>0</td>\n",
       "      <td>0</td>\n",
       "      <td>1</td>\n",
       "      <td>0</td>\n",
       "      <td>0</td>\n",
       "      <td>0</td>\n",
       "      <td>0</td>\n",
       "      <td>0</td>\n",
       "      <td>0</td>\n",
       "      <td>0</td>\n",
       "      <td>...</td>\n",
       "      <td>1.028881</td>\n",
       "      <td>0.000476</td>\n",
       "      <td>0.095639</td>\n",
       "      <td>1.006467</td>\n",
       "      <td>25.106461</td>\n",
       "      <td>62.227440</td>\n",
       "      <td>98.646057</td>\n",
       "      <td>2.299793</td>\n",
       "      <td>1.443183</td>\n",
       "      <td>Normal</td>\n",
       "    </tr>\n",
       "    <tr>\n",
       "      <th>3</th>\n",
       "      <td>0</td>\n",
       "      <td>0</td>\n",
       "      <td>1</td>\n",
       "      <td>0</td>\n",
       "      <td>0</td>\n",
       "      <td>0</td>\n",
       "      <td>0</td>\n",
       "      <td>0</td>\n",
       "      <td>0</td>\n",
       "      <td>0</td>\n",
       "      <td>...</td>\n",
       "      <td>1.028640</td>\n",
       "      <td>0.000468</td>\n",
       "      <td>0.076789</td>\n",
       "      <td>1.006743</td>\n",
       "      <td>25.113529</td>\n",
       "      <td>62.219608</td>\n",
       "      <td>98.647758</td>\n",
       "      <td>2.321012</td>\n",
       "      <td>1.443214</td>\n",
       "      <td>Normal</td>\n",
       "    </tr>\n",
       "    <tr>\n",
       "      <th>4</th>\n",
       "      <td>0</td>\n",
       "      <td>0</td>\n",
       "      <td>1</td>\n",
       "      <td>0</td>\n",
       "      <td>0</td>\n",
       "      <td>0</td>\n",
       "      <td>0</td>\n",
       "      <td>0</td>\n",
       "      <td>0</td>\n",
       "      <td>0</td>\n",
       "      <td>...</td>\n",
       "      <td>1.028400</td>\n",
       "      <td>0.000461</td>\n",
       "      <td>0.076789</td>\n",
       "      <td>1.006743</td>\n",
       "      <td>25.120600</td>\n",
       "      <td>62.262520</td>\n",
       "      <td>98.649452</td>\n",
       "      <td>2.399387</td>\n",
       "      <td>1.443244</td>\n",
       "      <td>Normal</td>\n",
       "    </tr>\n",
       "    <tr>\n",
       "      <th>...</th>\n",
       "      <td>...</td>\n",
       "      <td>...</td>\n",
       "      <td>...</td>\n",
       "      <td>...</td>\n",
       "      <td>...</td>\n",
       "      <td>...</td>\n",
       "      <td>...</td>\n",
       "      <td>...</td>\n",
       "      <td>...</td>\n",
       "      <td>...</td>\n",
       "      <td>...</td>\n",
       "      <td>...</td>\n",
       "      <td>...</td>\n",
       "      <td>...</td>\n",
       "      <td>...</td>\n",
       "      <td>...</td>\n",
       "      <td>...</td>\n",
       "      <td>...</td>\n",
       "      <td>...</td>\n",
       "      <td>...</td>\n",
       "      <td>...</td>\n",
       "    </tr>\n",
       "    <tr>\n",
       "      <th>33715</th>\n",
       "      <td>0</td>\n",
       "      <td>0</td>\n",
       "      <td>1</td>\n",
       "      <td>0</td>\n",
       "      <td>0</td>\n",
       "      <td>0</td>\n",
       "      <td>0</td>\n",
       "      <td>0</td>\n",
       "      <td>0</td>\n",
       "      <td>0</td>\n",
       "      <td>...</td>\n",
       "      <td>1.023186</td>\n",
       "      <td>8.724998</td>\n",
       "      <td>1.406998</td>\n",
       "      <td>0.999428</td>\n",
       "      <td>27.505890</td>\n",
       "      <td>61.930328</td>\n",
       "      <td>98.402184</td>\n",
       "      <td>7.785863</td>\n",
       "      <td>1.423562</td>\n",
       "      <td>Diverted flow</td>\n",
       "    </tr>\n",
       "    <tr>\n",
       "      <th>33716</th>\n",
       "      <td>0</td>\n",
       "      <td>0</td>\n",
       "      <td>1</td>\n",
       "      <td>0</td>\n",
       "      <td>0</td>\n",
       "      <td>0</td>\n",
       "      <td>0</td>\n",
       "      <td>0</td>\n",
       "      <td>0</td>\n",
       "      <td>0</td>\n",
       "      <td>...</td>\n",
       "      <td>1.023179</td>\n",
       "      <td>9.239656</td>\n",
       "      <td>1.213346</td>\n",
       "      <td>0.999405</td>\n",
       "      <td>27.502741</td>\n",
       "      <td>61.876289</td>\n",
       "      <td>98.401901</td>\n",
       "      <td>7.723396</td>\n",
       "      <td>1.423599</td>\n",
       "      <td>Diverted flow</td>\n",
       "    </tr>\n",
       "    <tr>\n",
       "      <th>33717</th>\n",
       "      <td>0</td>\n",
       "      <td>0</td>\n",
       "      <td>1</td>\n",
       "      <td>0</td>\n",
       "      <td>0</td>\n",
       "      <td>0</td>\n",
       "      <td>0</td>\n",
       "      <td>0</td>\n",
       "      <td>0</td>\n",
       "      <td>0</td>\n",
       "      <td>...</td>\n",
       "      <td>1.023171</td>\n",
       "      <td>9.239656</td>\n",
       "      <td>1.136754</td>\n",
       "      <td>0.999382</td>\n",
       "      <td>27.499590</td>\n",
       "      <td>62.095631</td>\n",
       "      <td>98.401627</td>\n",
       "      <td>7.660929</td>\n",
       "      <td>1.423636</td>\n",
       "      <td>Diverted flow</td>\n",
       "    </tr>\n",
       "    <tr>\n",
       "      <th>33718</th>\n",
       "      <td>0</td>\n",
       "      <td>0</td>\n",
       "      <td>1</td>\n",
       "      <td>0</td>\n",
       "      <td>0</td>\n",
       "      <td>0</td>\n",
       "      <td>0</td>\n",
       "      <td>0</td>\n",
       "      <td>0</td>\n",
       "      <td>0</td>\n",
       "      <td>...</td>\n",
       "      <td>1.023163</td>\n",
       "      <td>9.012890</td>\n",
       "      <td>1.126894</td>\n",
       "      <td>0.999359</td>\n",
       "      <td>27.496429</td>\n",
       "      <td>62.056889</td>\n",
       "      <td>98.401352</td>\n",
       "      <td>7.879085</td>\n",
       "      <td>1.423673</td>\n",
       "      <td>Diverted flow</td>\n",
       "    </tr>\n",
       "    <tr>\n",
       "      <th>33719</th>\n",
       "      <td>0</td>\n",
       "      <td>0</td>\n",
       "      <td>1</td>\n",
       "      <td>0</td>\n",
       "      <td>0</td>\n",
       "      <td>0</td>\n",
       "      <td>0</td>\n",
       "      <td>0</td>\n",
       "      <td>0</td>\n",
       "      <td>0</td>\n",
       "      <td>...</td>\n",
       "      <td>1.022309</td>\n",
       "      <td>9.012890</td>\n",
       "      <td>1.078480</td>\n",
       "      <td>0.999336</td>\n",
       "      <td>27.493280</td>\n",
       "      <td>62.018139</td>\n",
       "      <td>98.401077</td>\n",
       "      <td>7.838383</td>\n",
       "      <td>1.423710</td>\n",
       "      <td>Diverted flow</td>\n",
       "    </tr>\n",
       "  </tbody>\n",
       "</table>\n",
       "<p>33720 rows × 29 columns</p>\n",
       "</div>"
      ],
      "text/plain": [
       "       FIC301  FIC302  LI405  PT312  VC303  VC401  VC403  VC404  VC405  VC406  \\\n",
       "0           0       0      1      0      0      0      0      0      0      0   \n",
       "1           0       0      1      0      0      0      0      0      0      0   \n",
       "2           0       0      1      0      0      0      0      0      0      0   \n",
       "3           0       0      1      0      0      0      0      0      0      0   \n",
       "4           0       0      1      0      0      0      0      0      0      0   \n",
       "...       ...     ...    ...    ...    ...    ...    ...    ...    ...    ...   \n",
       "33715       0       0      1      0      0      0      0      0      0      0   \n",
       "33716       0       0      1      0      0      0      0      0      0      0   \n",
       "33717       0       0      1      0      0      0      0      0      0      0   \n",
       "33718       0       0      1      0      0      0      0      0      0      0   \n",
       "33719       0       0      1      0      0      0      0      0      0      0   \n",
       "\n",
       "       ...  P.topsep  FR.topsep.gas  FR.topsep.liquid  P_3phase  Air.Valve  \\\n",
       "0      ...  1.027175       0.000491          0.064845  1.005916  25.092310   \n",
       "1      ...  1.027277       0.000483          0.095639  1.006192  25.099390   \n",
       "2      ...  1.028881       0.000476          0.095639  1.006467  25.106461   \n",
       "3      ...  1.028640       0.000468          0.076789  1.006743  25.113529   \n",
       "4      ...  1.028400       0.000461          0.076789  1.006743  25.120600   \n",
       "...    ...       ...            ...               ...       ...        ...   \n",
       "33715  ...  1.023186       8.724998          1.406998  0.999428  27.505890   \n",
       "33716  ...  1.023179       9.239656          1.213346  0.999405  27.502741   \n",
       "33717  ...  1.023171       9.239656          1.136754  0.999382  27.499590   \n",
       "33718  ...  1.023163       9.012890          1.126894  0.999359  27.496429   \n",
       "33719  ...  1.022309       9.012890          1.078480  0.999336  27.493280   \n",
       "\n",
       "       Water.level  Water.coalescer  Water.level.valve  water.tank.level  \\\n",
       "0        62.243111        98.642677           2.257356          1.443121   \n",
       "1        62.235279        98.644371           2.278575          1.443152   \n",
       "2        62.227440        98.646057           2.299793          1.443183   \n",
       "3        62.219608        98.647758           2.321012          1.443214   \n",
       "4        62.262520        98.649452           2.399387          1.443244   \n",
       "...            ...              ...                ...               ...   \n",
       "33715    61.930328        98.402184           7.785863          1.423562   \n",
       "33716    61.876289        98.401901           7.723396          1.423599   \n",
       "33717    62.095631        98.401627           7.660929          1.423636   \n",
       "33718    62.056889        98.401352           7.879085          1.423673   \n",
       "33719    62.018139        98.401077           7.838383          1.423710   \n",
       "\n",
       "               Fault  \n",
       "0             Normal  \n",
       "1             Normal  \n",
       "2             Normal  \n",
       "3             Normal  \n",
       "4             Normal  \n",
       "...              ...  \n",
       "33715  Diverted flow  \n",
       "33716  Diverted flow  \n",
       "33717  Diverted flow  \n",
       "33718  Diverted flow  \n",
       "33719  Diverted flow  \n",
       "\n",
       "[33720 rows x 29 columns]"
      ]
     },
     "execution_count": 6,
     "metadata": {},
     "output_type": "execute_result"
    }
   ],
   "source": [
    "# Merge three datasets\n",
    "\n",
    "df = pd.concat([df1, df2, df3], ignore_index=True, sort=False)\n",
    "df = df.dropna(axis='columns')\n",
    "\n",
    "df"
   ]
  },
  {
   "cell_type": "code",
   "execution_count": 86,
   "id": "cc0d95f3",
   "metadata": {},
   "outputs": [
    {
     "data": {
      "text/plain": [
       "Fault\n",
       "Air blockage      8880\n",
       "Air leakage       8279\n",
       "Diverted flow    11519\n",
       "Normal           11899\n",
       "Slugging          4843\n",
       "Name: FIC301, dtype: int64"
      ]
     },
     "execution_count": 86,
     "metadata": {},
     "output_type": "execute_result"
    }
   ],
   "source": [
    "# Types of faults and appropriate number of records\n",
    "df.groupby(['Fault'])['FIC301'].count()"
   ]
  },
  {
   "cell_type": "code",
   "execution_count": 87,
   "id": "d2c1f67d",
   "metadata": {},
   "outputs": [
    {
     "data": {
      "text/html": [
       "<div>\n",
       "<style scoped>\n",
       "    .dataframe tbody tr th:only-of-type {\n",
       "        vertical-align: middle;\n",
       "    }\n",
       "\n",
       "    .dataframe tbody tr th {\n",
       "        vertical-align: top;\n",
       "    }\n",
       "\n",
       "    .dataframe thead th {\n",
       "        text-align: right;\n",
       "    }\n",
       "</style>\n",
       "<table border=\"1\" class=\"dataframe\">\n",
       "  <thead>\n",
       "    <tr style=\"text-align: right;\">\n",
       "      <th></th>\n",
       "      <th>FIC301</th>\n",
       "      <th>FIC302</th>\n",
       "      <th>LI405</th>\n",
       "      <th>PT312</th>\n",
       "      <th>VC303</th>\n",
       "      <th>VC401</th>\n",
       "      <th>VC403</th>\n",
       "      <th>VC404</th>\n",
       "      <th>VC405</th>\n",
       "      <th>VC406</th>\n",
       "      <th>...</th>\n",
       "      <th>riser.outlet.P</th>\n",
       "      <th>P.topsep</th>\n",
       "      <th>FR.topsep.gas</th>\n",
       "      <th>FR.topsep.liquid</th>\n",
       "      <th>P_3phase</th>\n",
       "      <th>Air.Valve</th>\n",
       "      <th>Water.level</th>\n",
       "      <th>Water.coalescer</th>\n",
       "      <th>Water.level.valve</th>\n",
       "      <th>water.tank.level</th>\n",
       "    </tr>\n",
       "  </thead>\n",
       "  <tbody>\n",
       "    <tr>\n",
       "      <th>count</th>\n",
       "      <td>45420.000000</td>\n",
       "      <td>45420.000000</td>\n",
       "      <td>45420.000000</td>\n",
       "      <td>45420.000000</td>\n",
       "      <td>45420.000000</td>\n",
       "      <td>45420.0</td>\n",
       "      <td>45420.0</td>\n",
       "      <td>45420.0</td>\n",
       "      <td>45420.0</td>\n",
       "      <td>45420.0</td>\n",
       "      <td>...</td>\n",
       "      <td>45420.000000</td>\n",
       "      <td>45420.000000</td>\n",
       "      <td>45420.000000</td>\n",
       "      <td>45420.000000</td>\n",
       "      <td>45420.000000</td>\n",
       "      <td>45420.000000</td>\n",
       "      <td>45420.000000</td>\n",
       "      <td>45420.000000</td>\n",
       "      <td>45420.000000</td>\n",
       "      <td>45420.000000</td>\n",
       "    </tr>\n",
       "    <tr>\n",
       "      <th>mean</th>\n",
       "      <td>0.071180</td>\n",
       "      <td>0.062241</td>\n",
       "      <td>0.679018</td>\n",
       "      <td>0.163804</td>\n",
       "      <td>0.002576</td>\n",
       "      <td>0.0</td>\n",
       "      <td>0.0</td>\n",
       "      <td>0.0</td>\n",
       "      <td>0.0</td>\n",
       "      <td>0.0</td>\n",
       "      <td>...</td>\n",
       "      <td>1.109878</td>\n",
       "      <td>1.019045</td>\n",
       "      <td>3.358363</td>\n",
       "      <td>0.559113</td>\n",
       "      <td>0.997311</td>\n",
       "      <td>22.352009</td>\n",
       "      <td>61.782958</td>\n",
       "      <td>98.623634</td>\n",
       "      <td>9.275199</td>\n",
       "      <td>1.426527</td>\n",
       "    </tr>\n",
       "    <tr>\n",
       "      <th>std</th>\n",
       "      <td>0.257128</td>\n",
       "      <td>0.241596</td>\n",
       "      <td>0.466859</td>\n",
       "      <td>0.370102</td>\n",
       "      <td>0.050689</td>\n",
       "      <td>0.0</td>\n",
       "      <td>0.0</td>\n",
       "      <td>0.0</td>\n",
       "      <td>0.0</td>\n",
       "      <td>0.0</td>\n",
       "      <td>...</td>\n",
       "      <td>0.165797</td>\n",
       "      <td>0.030180</td>\n",
       "      <td>5.135456</td>\n",
       "      <td>0.567385</td>\n",
       "      <td>0.029712</td>\n",
       "      <td>7.369957</td>\n",
       "      <td>1.457677</td>\n",
       "      <td>0.173581</td>\n",
       "      <td>11.556427</td>\n",
       "      <td>0.012909</td>\n",
       "    </tr>\n",
       "    <tr>\n",
       "      <th>min</th>\n",
       "      <td>0.000000</td>\n",
       "      <td>0.000000</td>\n",
       "      <td>0.000000</td>\n",
       "      <td>0.000000</td>\n",
       "      <td>0.000000</td>\n",
       "      <td>0.0</td>\n",
       "      <td>0.0</td>\n",
       "      <td>0.0</td>\n",
       "      <td>0.0</td>\n",
       "      <td>0.0</td>\n",
       "      <td>...</td>\n",
       "      <td>0.820029</td>\n",
       "      <td>0.845333</td>\n",
       "      <td>0.000000</td>\n",
       "      <td>-4.607517</td>\n",
       "      <td>0.822942</td>\n",
       "      <td>0.030689</td>\n",
       "      <td>49.623772</td>\n",
       "      <td>97.675377</td>\n",
       "      <td>0.000000</td>\n",
       "      <td>1.388638</td>\n",
       "    </tr>\n",
       "    <tr>\n",
       "      <th>25%</th>\n",
       "      <td>0.000000</td>\n",
       "      <td>0.000000</td>\n",
       "      <td>0.000000</td>\n",
       "      <td>0.000000</td>\n",
       "      <td>0.000000</td>\n",
       "      <td>0.0</td>\n",
       "      <td>0.0</td>\n",
       "      <td>0.0</td>\n",
       "      <td>0.0</td>\n",
       "      <td>0.0</td>\n",
       "      <td>...</td>\n",
       "      <td>1.014582</td>\n",
       "      <td>1.017692</td>\n",
       "      <td>0.000414</td>\n",
       "      <td>0.070511</td>\n",
       "      <td>0.996003</td>\n",
       "      <td>20.038310</td>\n",
       "      <td>61.755878</td>\n",
       "      <td>98.549589</td>\n",
       "      <td>2.283776</td>\n",
       "      <td>1.419087</td>\n",
       "    </tr>\n",
       "    <tr>\n",
       "      <th>50%</th>\n",
       "      <td>0.000000</td>\n",
       "      <td>0.000000</td>\n",
       "      <td>1.000000</td>\n",
       "      <td>0.000000</td>\n",
       "      <td>0.000000</td>\n",
       "      <td>0.0</td>\n",
       "      <td>0.0</td>\n",
       "      <td>0.0</td>\n",
       "      <td>0.0</td>\n",
       "      <td>0.0</td>\n",
       "      <td>...</td>\n",
       "      <td>1.037709</td>\n",
       "      <td>1.021233</td>\n",
       "      <td>0.043302</td>\n",
       "      <td>0.397561</td>\n",
       "      <td>0.999314</td>\n",
       "      <td>25.058850</td>\n",
       "      <td>61.981190</td>\n",
       "      <td>98.664036</td>\n",
       "      <td>6.556579</td>\n",
       "      <td>1.425808</td>\n",
       "    </tr>\n",
       "    <tr>\n",
       "      <th>75%</th>\n",
       "      <td>0.000000</td>\n",
       "      <td>0.000000</td>\n",
       "      <td>1.000000</td>\n",
       "      <td>0.000000</td>\n",
       "      <td>0.000000</td>\n",
       "      <td>0.0</td>\n",
       "      <td>0.0</td>\n",
       "      <td>0.0</td>\n",
       "      <td>0.0</td>\n",
       "      <td>0.0</td>\n",
       "      <td>...</td>\n",
       "      <td>1.153582</td>\n",
       "      <td>1.024938</td>\n",
       "      <td>6.983966</td>\n",
       "      <td>0.942655</td>\n",
       "      <td>1.002923</td>\n",
       "      <td>27.315350</td>\n",
       "      <td>62.153648</td>\n",
       "      <td>98.712509</td>\n",
       "      <td>8.254080</td>\n",
       "      <td>1.439326</td>\n",
       "    </tr>\n",
       "    <tr>\n",
       "      <th>max</th>\n",
       "      <td>1.000000</td>\n",
       "      <td>1.000000</td>\n",
       "      <td>1.000000</td>\n",
       "      <td>1.000000</td>\n",
       "      <td>1.000000</td>\n",
       "      <td>0.0</td>\n",
       "      <td>0.0</td>\n",
       "      <td>0.0</td>\n",
       "      <td>0.0</td>\n",
       "      <td>0.0</td>\n",
       "      <td>...</td>\n",
       "      <td>3.183747</td>\n",
       "      <td>1.328773</td>\n",
       "      <td>43.850960</td>\n",
       "      <td>2.840868</td>\n",
       "      <td>1.307652</td>\n",
       "      <td>34.459080</td>\n",
       "      <td>75.759613</td>\n",
       "      <td>99.930847</td>\n",
       "      <td>56.039059</td>\n",
       "      <td>1.448196</td>\n",
       "    </tr>\n",
       "  </tbody>\n",
       "</table>\n",
       "<p>8 rows × 28 columns</p>\n",
       "</div>"
      ],
      "text/plain": [
       "             FIC301        FIC302         LI405         PT312         VC303  \\\n",
       "count  45420.000000  45420.000000  45420.000000  45420.000000  45420.000000   \n",
       "mean       0.071180      0.062241      0.679018      0.163804      0.002576   \n",
       "std        0.257128      0.241596      0.466859      0.370102      0.050689   \n",
       "min        0.000000      0.000000      0.000000      0.000000      0.000000   \n",
       "25%        0.000000      0.000000      0.000000      0.000000      0.000000   \n",
       "50%        0.000000      0.000000      1.000000      0.000000      0.000000   \n",
       "75%        0.000000      0.000000      1.000000      0.000000      0.000000   \n",
       "max        1.000000      1.000000      1.000000      1.000000      1.000000   \n",
       "\n",
       "         VC401    VC403    VC404    VC405    VC406  ...  riser.outlet.P  \\\n",
       "count  45420.0  45420.0  45420.0  45420.0  45420.0  ...    45420.000000   \n",
       "mean       0.0      0.0      0.0      0.0      0.0  ...        1.109878   \n",
       "std        0.0      0.0      0.0      0.0      0.0  ...        0.165797   \n",
       "min        0.0      0.0      0.0      0.0      0.0  ...        0.820029   \n",
       "25%        0.0      0.0      0.0      0.0      0.0  ...        1.014582   \n",
       "50%        0.0      0.0      0.0      0.0      0.0  ...        1.037709   \n",
       "75%        0.0      0.0      0.0      0.0      0.0  ...        1.153582   \n",
       "max        0.0      0.0      0.0      0.0      0.0  ...        3.183747   \n",
       "\n",
       "           P.topsep  FR.topsep.gas  FR.topsep.liquid      P_3phase  \\\n",
       "count  45420.000000   45420.000000      45420.000000  45420.000000   \n",
       "mean       1.019045       3.358363          0.559113      0.997311   \n",
       "std        0.030180       5.135456          0.567385      0.029712   \n",
       "min        0.845333       0.000000         -4.607517      0.822942   \n",
       "25%        1.017692       0.000414          0.070511      0.996003   \n",
       "50%        1.021233       0.043302          0.397561      0.999314   \n",
       "75%        1.024938       6.983966          0.942655      1.002923   \n",
       "max        1.328773      43.850960          2.840868      1.307652   \n",
       "\n",
       "          Air.Valve   Water.level  Water.coalescer  Water.level.valve  \\\n",
       "count  45420.000000  45420.000000     45420.000000       45420.000000   \n",
       "mean      22.352009     61.782958        98.623634           9.275199   \n",
       "std        7.369957      1.457677         0.173581          11.556427   \n",
       "min        0.030689     49.623772        97.675377           0.000000   \n",
       "25%       20.038310     61.755878        98.549589           2.283776   \n",
       "50%       25.058850     61.981190        98.664036           6.556579   \n",
       "75%       27.315350     62.153648        98.712509           8.254080   \n",
       "max       34.459080     75.759613        99.930847          56.039059   \n",
       "\n",
       "       water.tank.level  \n",
       "count      45420.000000  \n",
       "mean           1.426527  \n",
       "std            0.012909  \n",
       "min            1.388638  \n",
       "25%            1.419087  \n",
       "50%            1.425808  \n",
       "75%            1.439326  \n",
       "max            1.448196  \n",
       "\n",
       "[8 rows x 28 columns]"
      ]
     },
     "execution_count": 87,
     "metadata": {},
     "output_type": "execute_result"
    }
   ],
   "source": [
    "df.describe()"
   ]
  },
  {
   "cell_type": "markdown",
   "id": "da7bf06d",
   "metadata": {},
   "source": [
    "## Dataset visualisation"
   ]
  },
  {
   "cell_type": "code",
   "execution_count": 9,
   "id": "c6e0d58a",
   "metadata": {},
   "outputs": [],
   "source": [
    "xcoords = [0, 361, 9241, 9602, 12420, 13320, 16201, 17821, 20401, 21721, 29041, 29521, 33720, 35279, 37260, 38264, 41034, 43314, 45420]\n",
    "xvalues = ['Normal','Air blockage', 'Normal', 'Air leakage', 'Normal', 'Air leakage', 'Normal', 'Air leakage', 'Normal',\n",
    "           'Diverted flow', 'Normal', 'Diverted flow', 'Slugging', 'Normal', 'Slugging', 'Normal', 'Slugging', 'Normal','Normal']\n",
    "\n",
    "def plot_time_series_measurements(df, xcoords, xvalues):\n",
    "    plt.style.use(\"fivethirtyeight\")\n",
    "    fig, axs = plt.subplots(df.shape[1], 1, figsize=(12, 30), sharex=True)\n",
    "    i = 0\n",
    "    for (columnName, columnData) in df.iteritems():\n",
    "        axs[i].plot(columnData, color='grey', label=columnName)\n",
    "        axs[i].legend()\n",
    "        axs[i].grid(True)\n",
    "        for x in range(len(xcoords)-1):\n",
    "            if xvalues[x]=='Normal':\n",
    "                color_val = 'g'\n",
    "            else:\n",
    "                color_val = 'r'\n",
    "            axs[i].axvspan(xcoords[x], xcoords[x+1]-1, facecolor=color_val, alpha=0.3)\n",
    "            axs[i].axvline(x=xcoords[x], color=color_val,lw=1, linestyle='dashed')\n",
    "        \n",
    "        axs[i].set_xticks(xcoords[0:len(xcoords)-1])\n",
    "        axs[i].set_xticklabels(xvalues[0:len(xcoords)-1], rotation = 30, fontsize=8)\n",
    "        i +=1\n",
    "    plt.show()"
   ]
  },
  {
   "cell_type": "code",
   "execution_count": 10,
   "id": "d94f8dcf",
   "metadata": {},
   "outputs": [
    {
     "data": {
      "image/png": "[encoded data removed]",
      "text/plain": [
       "<Figure size 864x2160 with 17 Axes>"
      ]
     },
     "metadata": {},
     "output_type": "display_data"
    }
   ],
   "source": [
    "# Visualise without alarms (0:10) and Fault column (29)\n",
    "plot_time_series_measurements(df.iloc[:,11:28],xcoords,xvalues)"
   ]
  },
  {
   "cell_type": "markdown",
   "id": "4a3ef12f",
   "metadata": {},
   "source": [
    "## Data stationarity\n",
    "Stationarity implies that taking consecutive samples of data with the same size should have identical covariances regardless of the starting point.\n",
    "\n",
    "A time series is stationary if it satisfies the following three conditions.\n",
    "\n",
    "* Mean of the series over time is constant\n",
    "* Variance of the series over time is constant.\n",
    "* No seasonality.\n",
    "\n",
    "We would like to make sure that all columns are stationary."
   ]
  },
  {
   "cell_type": "code",
   "execution_count": 89,
   "id": "ef33b7b9",
   "metadata": {},
   "outputs": [],
   "source": [
    "def check_if_not_stationary(X):\n",
    "    output = []\n",
    "    for (columnName, columnData) in X.iteritems():\n",
    "        #perform augmented Dickey-Fuller test\n",
    "        res = adfuller(columnData)[1]\n",
    "        res_boolean = True if res>=0.05 else False\n",
    "        output.append(res_boolean)\n",
    "    return output"
   ]
  },
  {
   "cell_type": "code",
   "execution_count": 90,
   "id": "fcf9a1f4",
   "metadata": {
    "scrolled": true
   },
   "outputs": [],
   "source": [
    "# Add False for the first 11 alarms and calculate stationary values for measurement columns\n",
    "not_stationary =  [False for i in range(11)] + check_if_not_stationary(df.iloc[:,11:28])\n",
    "# Add False for the Fault column\n",
    "not_stationary.append(False)"
   ]
  },
  {
   "cell_type": "code",
   "execution_count": 91,
   "id": "5a72c620",
   "metadata": {},
   "outputs": [
    {
     "data": {
      "text/html": [
       "<div>\n",
       "<style scoped>\n",
       "    .dataframe tbody tr th:only-of-type {\n",
       "        vertical-align: middle;\n",
       "    }\n",
       "\n",
       "    .dataframe tbody tr th {\n",
       "        vertical-align: top;\n",
       "    }\n",
       "\n",
       "    .dataframe thead th {\n",
       "        text-align: right;\n",
       "    }\n",
       "</style>\n",
       "<table border=\"1\" class=\"dataframe\">\n",
       "  <thead>\n",
       "    <tr style=\"text-align: right;\">\n",
       "      <th></th>\n",
       "      <th>Air.T</th>\n",
       "      <th>WaterIn</th>\n",
       "    </tr>\n",
       "  </thead>\n",
       "  <tbody>\n",
       "    <tr>\n",
       "      <th>0</th>\n",
       "      <td>15.681660</td>\n",
       "      <td>0.096309</td>\n",
       "    </tr>\n",
       "    <tr>\n",
       "      <th>1</th>\n",
       "      <td>15.681560</td>\n",
       "      <td>0.096320</td>\n",
       "    </tr>\n",
       "    <tr>\n",
       "      <th>2</th>\n",
       "      <td>15.681470</td>\n",
       "      <td>0.096331</td>\n",
       "    </tr>\n",
       "    <tr>\n",
       "      <th>3</th>\n",
       "      <td>15.681380</td>\n",
       "      <td>0.096342</td>\n",
       "    </tr>\n",
       "    <tr>\n",
       "      <th>4</th>\n",
       "      <td>15.681290</td>\n",
       "      <td>0.096354</td>\n",
       "    </tr>\n",
       "    <tr>\n",
       "      <th>...</th>\n",
       "      <td>...</td>\n",
       "      <td>...</td>\n",
       "    </tr>\n",
       "    <tr>\n",
       "      <th>45415</th>\n",
       "      <td>18.470489</td>\n",
       "      <td>3.490162</td>\n",
       "    </tr>\n",
       "    <tr>\n",
       "      <th>45416</th>\n",
       "      <td>18.470881</td>\n",
       "      <td>3.491043</td>\n",
       "    </tr>\n",
       "    <tr>\n",
       "      <th>45417</th>\n",
       "      <td>18.471270</td>\n",
       "      <td>3.491924</td>\n",
       "    </tr>\n",
       "    <tr>\n",
       "      <th>45418</th>\n",
       "      <td>18.471649</td>\n",
       "      <td>3.492805</td>\n",
       "    </tr>\n",
       "    <tr>\n",
       "      <th>45419</th>\n",
       "      <td>18.472040</td>\n",
       "      <td>3.493685</td>\n",
       "    </tr>\n",
       "  </tbody>\n",
       "</table>\n",
       "<p>45420 rows × 2 columns</p>\n",
       "</div>"
      ],
      "text/plain": [
       "           Air.T   WaterIn\n",
       "0      15.681660  0.096309\n",
       "1      15.681560  0.096320\n",
       "2      15.681470  0.096331\n",
       "3      15.681380  0.096342\n",
       "4      15.681290  0.096354\n",
       "...          ...       ...\n",
       "45415  18.470489  3.490162\n",
       "45416  18.470881  3.491043\n",
       "45417  18.471270  3.491924\n",
       "45418  18.471649  3.492805\n",
       "45419  18.472040  3.493685\n",
       "\n",
       "[45420 rows x 2 columns]"
      ]
     },
     "execution_count": 91,
     "metadata": {},
     "output_type": "execute_result"
    }
   ],
   "source": [
    "# Not stationary measurement columns according to Dickey-Fuller test\n",
    "df.iloc[:,not_stationary]"
   ]
  },
  {
   "cell_type": "markdown",
   "id": "34543792",
   "metadata": {},
   "source": [
    "## Transform not stationary columns"
   ]
  },
  {
   "cell_type": "code",
   "execution_count": 92,
   "id": "660007da",
   "metadata": {},
   "outputs": [
    {
     "data": {
      "text/html": [
       "<div>\n",
       "<style scoped>\n",
       "    .dataframe tbody tr th:only-of-type {\n",
       "        vertical-align: middle;\n",
       "    }\n",
       "\n",
       "    .dataframe tbody tr th {\n",
       "        vertical-align: top;\n",
       "    }\n",
       "\n",
       "    .dataframe thead th {\n",
       "        text-align: right;\n",
       "    }\n",
       "</style>\n",
       "<table border=\"1\" class=\"dataframe\">\n",
       "  <thead>\n",
       "    <tr style=\"text-align: right;\">\n",
       "      <th></th>\n",
       "      <th>Air.T</th>\n",
       "      <th>WaterIn</th>\n",
       "    </tr>\n",
       "  </thead>\n",
       "  <tbody>\n",
       "    <tr>\n",
       "      <th>0</th>\n",
       "      <td>0.000000</td>\n",
       "      <td>0.000000</td>\n",
       "    </tr>\n",
       "    <tr>\n",
       "      <th>1</th>\n",
       "      <td>-0.000100</td>\n",
       "      <td>0.000011</td>\n",
       "    </tr>\n",
       "    <tr>\n",
       "      <th>2</th>\n",
       "      <td>-0.000090</td>\n",
       "      <td>0.000011</td>\n",
       "    </tr>\n",
       "    <tr>\n",
       "      <th>3</th>\n",
       "      <td>-0.000090</td>\n",
       "      <td>0.000011</td>\n",
       "    </tr>\n",
       "    <tr>\n",
       "      <th>4</th>\n",
       "      <td>-0.000091</td>\n",
       "      <td>0.000011</td>\n",
       "    </tr>\n",
       "    <tr>\n",
       "      <th>...</th>\n",
       "      <td>...</td>\n",
       "      <td>...</td>\n",
       "    </tr>\n",
       "    <tr>\n",
       "      <th>45415</th>\n",
       "      <td>0.000389</td>\n",
       "      <td>-0.003243</td>\n",
       "    </tr>\n",
       "    <tr>\n",
       "      <th>45416</th>\n",
       "      <td>0.000391</td>\n",
       "      <td>0.000881</td>\n",
       "    </tr>\n",
       "    <tr>\n",
       "      <th>45417</th>\n",
       "      <td>0.000389</td>\n",
       "      <td>0.000881</td>\n",
       "    </tr>\n",
       "    <tr>\n",
       "      <th>45418</th>\n",
       "      <td>0.000380</td>\n",
       "      <td>0.000881</td>\n",
       "    </tr>\n",
       "    <tr>\n",
       "      <th>45419</th>\n",
       "      <td>0.000391</td>\n",
       "      <td>0.000880</td>\n",
       "    </tr>\n",
       "  </tbody>\n",
       "</table>\n",
       "<p>45420 rows × 2 columns</p>\n",
       "</div>"
      ],
      "text/plain": [
       "          Air.T   WaterIn\n",
       "0      0.000000  0.000000\n",
       "1     -0.000100  0.000011\n",
       "2     -0.000090  0.000011\n",
       "3     -0.000090  0.000011\n",
       "4     -0.000091  0.000011\n",
       "...         ...       ...\n",
       "45415  0.000389 -0.003243\n",
       "45416  0.000391  0.000881\n",
       "45417  0.000389  0.000881\n",
       "45418  0.000380  0.000881\n",
       "45419  0.000391  0.000880\n",
       "\n",
       "[45420 rows x 2 columns]"
      ]
     },
     "execution_count": 92,
     "metadata": {},
     "output_type": "execute_result"
    }
   ],
   "source": [
    "# 1st difference method to transform not stationary columns\n",
    "df.iloc[:,not_stationary].diff().fillna(0)"
   ]
  },
  {
   "cell_type": "code",
   "execution_count": 15,
   "id": "20b888b9",
   "metadata": {},
   "outputs": [
    {
     "data": {
      "text/plain": [
       "[False, False]"
      ]
     },
     "execution_count": 15,
     "metadata": {},
     "output_type": "execute_result"
    }
   ],
   "source": [
    "# Check if 1st difference helped\n",
    "not_stationary2 = check_if_not_stationary(df.iloc[:,not_stationary].diff().fillna(0))\n",
    "not_stationary2"
   ]
  },
  {
   "cell_type": "code",
   "execution_count": 93,
   "id": "038ac167",
   "metadata": {},
   "outputs": [],
   "source": [
    "# Replace not stationary measurements with their 1st differences\n",
    "df_diff = df\n",
    "new_values = df_diff.iloc[:,not_stationary].diff().fillna(0)\n",
    "df_diff[list(df_diff.iloc[:,not_stationary].columns)] = new_values"
   ]
  },
  {
   "cell_type": "markdown",
   "id": "93e6f699",
   "metadata": {},
   "source": [
    "## Split data into train and test datasets\n",
    "\n",
    "Time Series Split is a special variation of k fold cross-validation to validate time series data samples, observed at fixed time intervals. \n",
    "It returns first k folds as train set and the (k+1) th set as test set. Unlike conventional k fold cross-validation methods, successive training sets are supersets of those that come before them. It also adds all surplus data to the first training set that is always used to train the model."
   ]
  },
  {
   "cell_type": "code",
   "execution_count": 17,
   "id": "d10cea06",
   "metadata": {
    "scrolled": true
   },
   "outputs": [
    {
     "name": "stdout",
     "output_type": "stream",
     "text": [
      "TRAIN: 7570 TEST: 7570 NORMAL: 361\n",
      "TRAIN: 15140 TEST: 7570 NORMAL: 1622\n",
      "TRAIN: 22710 TEST: 7570 NORMAL: 4562\n",
      "TRAIN: 30280 TEST: 7570 NORMAL: 5042\n",
      "TRAIN: 37850 TEST: 7570 NORMAL: 7023\n"
     ]
    }
   ],
   "source": [
    "tscv = TimeSeriesSplit(n_splits=5)\n",
    "for train_index, test_index in tscv.split(df_diff):\n",
    "    X_train, X_test = df_diff.iloc[train_index,:], df_diff.iloc[test_index,:]\n",
    "    X_normal = X_train[X_train['Fault'] == 'Normal']\n",
    "    print('TRAIN:', len(train_index), 'TEST:', len(test_index),'NORMAL:', len(X_normal))"
   ]
  },
  {
   "cell_type": "markdown",
   "id": "1edffa4a",
   "metadata": {},
   "source": [
    "## Baseline model - Auto Associative Kernel Regression (AAKR)\n",
    "https://github.com/jmyrberg/aakr"
   ]
  },
  {
   "cell_type": "code",
   "execution_count": 107,
   "id": "e407cc42",
   "metadata": {},
   "outputs": [],
   "source": [
    "def model_metrics_confusion_matrix(y_actual, y_predicted):\n",
    "    # Confusion matrix\n",
    "    y_actual_pd = pd.Series(y_actual, name='Actual')\n",
    "    y_predicted_pd = pd.Series(y_predicted, name='Predicted')\n",
    "    printmd(\"**Confusion matrix**\")\n",
    "    print(pd.crosstab(y_actual_pd, y_predicted_pd, margins = True))"
   ]
  },
  {
   "cell_type": "code",
   "execution_count": 108,
   "id": "9719aa6c",
   "metadata": {},
   "outputs": [],
   "source": [
    "def model_metrics_others(y_actual, y_predicted, number_of_digits = 2):\n",
    "    # Precision and recall\n",
    "    # Precision is the ratio between the True Positives and all the points that are classified as Positives. \n",
    "    # Precision = TP/(TP + FP)\n",
    "    precision = precision_score(y_actual, y_predicted)\n",
    "    # Recall is the measure of our model correctly identifying True Positives.\n",
    "    # Recall = TP/(TP + FN)\n",
    "    recall = recall_score(y_actual, y_predicted)\n",
    "    accuracy = accuracy_score(y_actual, y_predicted)\n",
    "    f1 = f1_score(y_actual, y_predicted)\n",
    "    return [str(round(precision,number_of_digits)),\n",
    "                str(round(recall,number_of_digits)),\n",
    "                str(round(accuracy,number_of_digits)),\n",
    "                str(round(f1,number_of_digits))]"
   ]
  },
  {
   "cell_type": "code",
   "execution_count": 109,
   "id": "170751b0",
   "metadata": {},
   "outputs": [],
   "source": [
    "def model_metrics_others_print(values):\n",
    "    print (\"{:<10} {:<10} {:<10} {:<10} {:<10}\".format('Fold','Precision','Recall','Accuracy','F1'))\n",
    "    i = 1\n",
    "    for v in values:\n",
    "        precision, recall, accuracy, f1 = v\n",
    "        print (\"{:<10} {:<10} {:<10} {:<10} {:<10}\".format(i ,precision, recall, accuracy, f1))\n",
    "        i += 1\n",
    "    df = pd.DataFrame(values, columns=['Precision','Recall','Accuracy','F1'])\n",
    "    df['Precision']=pd.to_numeric(df.Precision)\n",
    "    df['Recall']=pd.to_numeric(df.Recall)\n",
    "    df['Accuracy']=pd.to_numeric(df.Accuracy)\n",
    "    df['F1']=pd.to_numeric(df.F1)\n",
    "    precision, recall, accuracy, f1 = list(df.mean())\n",
    "    print (\"{:<10} {:<10} {:<10} {:<10} {:<10}\".format('Average' ,round(precision,2), round(recall,2), \n",
    "                                                       round(accuracy,2), round(f1,2)))"
   ]
  },
  {
   "cell_type": "code",
   "execution_count": 110,
   "id": "f49ae2cd",
   "metadata": {},
   "outputs": [],
   "source": [
    "def model_metrics_others_print_simple(values, number_of_digits = 2):\n",
    "    precision, recall, accuracy, f1 = values\n",
    "    printmd(\"**Model Metrics**\")\n",
    "    print (\"{:<10} {:<10} {:<10} {:<10}\".format('Precision','Recall','Accuracy','F1'))\n",
    "    print (\"{:<10} {:<10} {:<10} {:<10}\".format(round(float(precision),number_of_digits), \n",
    "                                                round(float(recall),number_of_digits), \n",
    "                                                            round(float(accuracy),number_of_digits), \n",
    "                                                                        round(float(f1),number_of_digits)))"
   ]
  },
  {
   "cell_type": "code",
   "execution_count": 22,
   "id": "6534fc5c",
   "metadata": {},
   "outputs": [
    {
     "name": "stdout",
     "output_type": "stream",
     "text": [
      "Fold       Precision  Recall     Accuracy   F1        \n",
      "1          0.83       1.0        0.83       0.91      \n",
      "2          0.61       1.0        0.61       0.76      \n",
      "3          0.94       0.99       0.93       0.96      \n",
      "4          0.74       1.0        0.74       0.85      \n",
      "5          0.36       1.0        0.36       0.52      \n",
      "Average    0.7        1.0        0.69       0.8       \n"
     ]
    },
    {
     "data": {
      "text/markdown": [
       "**Confusion matrix**"
      ],
      "text/plain": [
       "<IPython.core.display.Markdown object>"
      ]
     },
     "metadata": {},
     "output_type": "display_data"
    },
    {
     "name": "stdout",
     "output_type": "stream",
     "text": [
      "Predicted   0      1    All\n",
      "Actual                     \n",
      "0           5  11533  11538\n",
      "1          80  26232  26312\n",
      "All        85  37765  37850\n"
     ]
    }
   ],
   "source": [
    "diff_models_results = []\n",
    "# Binary alarms\n",
    "alarms = ['FIC301', 'FIC302', 'LI405', 'LI502', 'LI505', 'PT312', 'VC303', 'VC401', 'VC403', 'VC404', 'VC405', 'VC406', 'VLV303']\n",
    "# AAKR model\n",
    "aakr = AAKR() \n",
    "sigma = 0.6\n",
    "y_test_sum = []\n",
    "y_predicted_sum = []\n",
    "results = []\n",
    "\n",
    "for train_index, test_index in tscv.split(df_diff):\n",
    "    X_train, X_test = df_diff.iloc[train_index,:], df_diff.iloc[test_index,:]\n",
    "    X_test = X_test.reset_index(drop=True)\n",
    "    X_normal = X_train[X_train['Fault'] == 'Normal'].reset_index(drop=True)\n",
    "    \n",
    "    # Actual fault values\n",
    "    y_test = X_test['Fault'].replace(['Diverted flow','Air blockage','Air leakage','Slugging','Normal'], [1, 1, 1, 1, 0])\n",
    "    y_train = X_train['Fault'].replace(['Diverted flow','Air blockage','Air leakage','Slugging','Normal'], [1, 1, 1, 1, 0])\n",
    "    \n",
    "    # Predicted fault values\n",
    "    ############################\n",
    "    # Fit normal data into AAKR\n",
    "    aakr.partial_fit(X_normal.iloc[:, :-1])\n",
    "    # Find \"normal\" predicted measurements for test data\n",
    "    X_aakr = pd.DataFrame(aakr.transform(X_test.iloc[:, :-1]), columns = X_test.iloc[:, :-1].columns)\n",
    "    \n",
    "    # Predict fault status for the measurement \n",
    "    # detecting if measurement is outside of the \"normal\" region:\n",
    "    # more than 0.8 sd difference between \"normal\" AAKR predicted measurement (X_aakr) and observed measurement (X_test)\n",
    "    for (columnName, columnData) in X_aakr.iteritems():\n",
    "        if columnName not in alarms: # AAKR is not working with binary values\n",
    "            X_aakr[columnName+\"_Outside\"] = np.where((abs(X_aakr[columnName]-X_test.iloc[:, :-1][columnName])<=sigma*X_normal.iloc[:, :-1][columnName].std()), False, True)\n",
    "    # Predict fault status for the whole system if at least one measurement is outside of the \"normal\" region\n",
    "    X_aakr[\"Predicted\"] = np.where(X_aakr.loc[:, X_aakr.columns.str.contains('_Outside')].sum(axis=1)>0,True,False)\n",
    "    y_predicted_aakr = X_aakr[\"Predicted\"].replace([True, False], [1, 0])\n",
    "    ############################\n",
    "    y_predicted_sum = y_predicted_sum + list(y_predicted_aakr)\n",
    "    y_test_sum = y_test_sum + list(y_test)\n",
    "    results.append(model_metrics_others(y_test, y_predicted_aakr))\n",
    "    \n",
    "model_metrics_others_print(results)\n",
    "model_metrics_confusion_matrix(y_test_sum, y_predicted_sum)\n",
    "\n",
    "# Collect model metrics\n",
    "result = model_metrics_others(y_test_sum, y_predicted_sum)\n",
    "result.insert(0, 'AAKR')\n",
    "diff_models_results.append(result)"
   ]
  },
  {
   "cell_type": "markdown",
   "id": "756d43e2",
   "metadata": {},
   "source": [
    "## From here we will use normal train test split not the TimeSeriesSplit\n",
    "It is needed to make sure that our records are good to predict fault outcome."
   ]
  },
  {
   "cell_type": "code",
   "execution_count": 94,
   "id": "014feccf",
   "metadata": {},
   "outputs": [],
   "source": [
    "# Split into train and test sets replacing not stationary measurements with their 1st differences\n",
    "rng = np.random.RandomState(0)\n",
    "X_train, X_test = train_test_split(df_diff, random_state=rng)\n",
    "\n",
    "# Actual fault values\n",
    "y_test = X_test['Fault'].replace(['Diverted flow','Air blockage','Air leakage','Slugging','Normal'], [1, 1, 1, 1, 0])\n",
    "y_train = X_train['Fault'].replace(['Diverted flow','Air blockage','Air leakage','Slugging','Normal'], [1, 1, 1, 1, 0])"
   ]
  },
  {
   "cell_type": "markdown",
   "id": "6df1dffa",
   "metadata": {},
   "source": [
    "## PCR model"
   ]
  },
  {
   "cell_type": "code",
   "execution_count": 24,
   "id": "0f808868",
   "metadata": {},
   "outputs": [],
   "source": [
    "def pcr_prediction(X_train, Y_train, X_test, PC_number = 2):\n",
    "    pca = PCA()\n",
    "    # PCA transform data using PC_number first PCs\n",
    "    X_train_reduced =  pca.fit_transform(X_train)[:,:PC_number]\n",
    "    X_test_reduced = pca.transform(X_test)[:,:PC_number] \n",
    "    \n",
    "    # Train PCR model\n",
    "    regr = LinearRegression()\n",
    "    regr.fit(X_train_reduced, Y_train)\n",
    "    \n",
    "    # Predict outputs\n",
    "    X_pcr = regr.predict(X_test_reduced)\n",
    "    return np.array(list(map(lambda x: 1 if x>=0.5 else 0, X_pcr)))"
   ]
  },
  {
   "cell_type": "code",
   "execution_count": 25,
   "id": "153b7d2b",
   "metadata": {},
   "outputs": [
    {
     "data": {
      "text/markdown": [
       "**PCR with Linear Regression:**"
      ],
      "text/plain": [
       "<IPython.core.display.Markdown object>"
      ]
     },
     "metadata": {},
     "output_type": "display_data"
    },
    {
     "data": {
      "text/markdown": [
       "**Confusion matrix**"
      ],
      "text/plain": [
       "<IPython.core.display.Markdown object>"
      ]
     },
     "metadata": {},
     "output_type": "display_data"
    },
    {
     "name": "stdout",
     "output_type": "stream",
     "text": [
      "Predicted    0     1   All\n",
      "Actual                    \n",
      "0           24   152   176\n",
      "1          339  2360  2699\n",
      "All        363  2512  2875\n"
     ]
    },
    {
     "data": {
      "text/markdown": [
       "**Model Metrics**"
      ],
      "text/plain": [
       "<IPython.core.display.Markdown object>"
      ]
     },
     "metadata": {},
     "output_type": "display_data"
    },
    {
     "name": "stdout",
     "output_type": "stream",
     "text": [
      "Precision  Recall     Accuracy   F1        \n",
      "0.82       0.97       0.83       0.89      \n"
     ]
    }
   ],
   "source": [
    "PC_number = 4\n",
    "\n",
    "# Predicted fault values using PCR\n",
    "y_predicted_pcr = pcr_prediction(X_train.iloc[:, :-1], y_train, X_test.iloc[:, :-1], PC_number)\n",
    "\n",
    "printmd(\"**PCR with Linear Regression:**\")\n",
    "\n",
    "model_metrics_confusion_matrix(y_test, y_predicted_pcr)\n",
    "\n",
    "# Collect and print model metrics\n",
    "result = model_metrics_others(y_test, y_predicted_pcr)\n",
    "model_metrics_others_print_simple(result)\n",
    "result.insert(0, 'PCR with Linear Regression')\n",
    "diff_models_results.append(result)"
   ]
  },
  {
   "cell_type": "markdown",
   "id": "02006a9b",
   "metadata": {},
   "source": [
    "## PCR model with Logistic Binary Regression"
   ]
  },
  {
   "cell_type": "code",
   "execution_count": 26,
   "id": "03d78700",
   "metadata": {},
   "outputs": [],
   "source": [
    "def pcr_lr_prediction(X_train, Y_train, X_test, PC_number = 2):\n",
    "    pca = PCA()\n",
    "    # PCA transform data using PC_number first PCs\n",
    "    X_train_reduced =  pca.fit_transform(X_train)[:,:PC_number]\n",
    "    X_test_reduced = pca.transform(X_test)[:,:PC_number] \n",
    "    \n",
    "    # Train PCR model\n",
    "    logistic_regression_lr = LogisticRegression()\n",
    "    lr_model = logistic_regression_lr.fit(X_train_reduced, Y_train)\n",
    "    \n",
    "    # Predict outputs\n",
    "    y_predicted_pcr_lr = lr_model.predict(X_test_reduced)\n",
    "    return y_predicted_pcr_lr"
   ]
  },
  {
   "cell_type": "code",
   "execution_count": 27,
   "id": "0f3af2cc",
   "metadata": {},
   "outputs": [
    {
     "data": {
      "text/markdown": [
       "**PCR with Logistic Binary Regression:**"
      ],
      "text/plain": [
       "<IPython.core.display.Markdown object>"
      ]
     },
     "metadata": {},
     "output_type": "display_data"
    },
    {
     "data": {
      "text/markdown": [
       "**Confusion matrix**"
      ],
      "text/plain": [
       "<IPython.core.display.Markdown object>"
      ]
     },
     "metadata": {},
     "output_type": "display_data"
    },
    {
     "name": "stdout",
     "output_type": "stream",
     "text": [
      "Predicted    0     1   All\n",
      "Actual                    \n",
      "0           25   151   176\n",
      "1          360  2339  2699\n",
      "All        385  2490  2875\n"
     ]
    },
    {
     "data": {
      "text/markdown": [
       "**Model Metrics**"
      ],
      "text/plain": [
       "<IPython.core.display.Markdown object>"
      ]
     },
     "metadata": {},
     "output_type": "display_data"
    },
    {
     "name": "stdout",
     "output_type": "stream",
     "text": [
      "Precision  Recall     Accuracy   F1        \n",
      "0.83       0.97       0.83       0.89      \n"
     ]
    }
   ],
   "source": [
    "# Predicted fault values using PCR LR\n",
    "y_predicted_pcr_lr = pcr_lr_prediction(X_train.iloc[:, :-1], y_train, X_test.iloc[:, :-1], PC_number)\n",
    "\n",
    "printmd(\"**PCR with Logistic Binary Regression:**\")\n",
    "\n",
    "model_metrics_confusion_matrix(y_test, y_predicted_pcr_lr)\n",
    "\n",
    "# Collect and print model metrics\n",
    "result = model_metrics_others(y_test, y_predicted_pcr_lr)\n",
    "model_metrics_others_print_simple(result)\n",
    "result.insert(0, 'PCR with Logistic Binary Regression')\n",
    "diff_models_results.append(result)"
   ]
  },
  {
   "cell_type": "markdown",
   "id": "4e2c7ab3",
   "metadata": {},
   "source": [
    "## PCR model with Logistic Multiclass Regression"
   ]
  },
  {
   "cell_type": "code",
   "execution_count": 28,
   "id": "da08359c",
   "metadata": {},
   "outputs": [],
   "source": [
    "def pcr_mlr_prediction(X_train, Y_train, X_test, PC_number = 2):\n",
    "    pca = PCA()\n",
    "    # PCA transform data using PC_number first PCs\n",
    "    X_train_reduced =  pca.fit_transform(X_train)[:,:PC_number]\n",
    "    X_test_reduced = pca.transform(X_test)[:,:PC_number] \n",
    "    \n",
    "    # Train PCR model\n",
    "    # Create Multiclass LR model\n",
    "    logistic_regression_mlr = LogisticRegression(multi_class=\"multinomial\",penalty=\"l2\",max_iter=int(1e6))\n",
    "    mlr_model = logistic_regression_mlr.fit(X_train_reduced, y_train_mlr)\n",
    "    \n",
    "    # Predict outputs\n",
    "    y_predicted_pcr_mlr = mlr_model.predict(X_test_reduced)\n",
    "    return y_predicted_pcr_mlr"
   ]
  },
  {
   "cell_type": "code",
   "execution_count": 29,
   "id": "79deb75d",
   "metadata": {
    "scrolled": true
   },
   "outputs": [
    {
     "data": {
      "text/markdown": [
       "**PCR with Logistic Multiclass Regression:**"
      ],
      "text/plain": [
       "<IPython.core.display.Markdown object>"
      ]
     },
     "metadata": {},
     "output_type": "display_data"
    },
    {
     "data": {
      "text/markdown": [
       "**Confusion matrix**"
      ],
      "text/plain": [
       "<IPython.core.display.Markdown object>"
      ]
     },
     "metadata": {},
     "output_type": "display_data"
    },
    {
     "name": "stdout",
     "output_type": "stream",
     "text": [
      "Predicted     Air blockage  Air leakage  Diverted flow  Normal  Slugging   All\n",
      "Actual                                                                        \n",
      "Air blockage            94          356            925     606       245  2226\n",
      "Air leakage             21           84            191     124        53   473\n",
      "Normal                   5           27             76      46        22   176\n",
      "All                    120          467           1192     776       320  2875\n"
     ]
    },
    {
     "data": {
      "text/markdown": [
       "**Model Metrics**"
      ],
      "text/plain": [
       "<IPython.core.display.Markdown object>"
      ]
     },
     "metadata": {},
     "output_type": "display_data"
    },
    {
     "name": "stdout",
     "output_type": "stream",
     "text": [
      "Precision  Recall     Accuracy   F1        \n",
      "0.65       0.63       0.61       0.61      \n"
     ]
    }
   ],
   "source": [
    "# Actual fault values\n",
    "y_train_mlr = X_train['Fault'] \n",
    "y_test_mlr = X_test['Fault']    \n",
    "\n",
    "# Predicted fault values using PCR MLR\n",
    "y_predicted_pcr_mlr = pcr_mlr_prediction(X_train.iloc[:, :-1], y_train_mlr, X_test.iloc[:, :-1], PC_number)\n",
    "\n",
    "printmd(\"**PCR with Logistic Multiclass Regression:**\")\n",
    "\n",
    "model_metrics_confusion_matrix(y_test_mlr, y_predicted_pcr_mlr)\n",
    "\n",
    "# Collect and print model metrics\n",
    "result = [precision_score(y_test_mlr,y_predicted_pcr_mlr, average=\"macro\"),\n",
    "          recall_score(y_test_mlr,y_predicted_pcr_mlr, average=\"macro\"),\n",
    "          accuracy_score(y_test_mlr,y_predicted_pcr_mlr),\n",
    "          f1_score(y_test_mlr,y_predicted_pcr_mlr, average=\"macro\")]\n",
    "\n",
    "model_metrics_others_print_simple(result)\n",
    "result.insert(0, 'PCR with Logistic Multiclass Regression')\n",
    "diff_models_results.append(result)"
   ]
  },
  {
   "cell_type": "markdown",
   "id": "fd57894b",
   "metadata": {},
   "source": [
    "## Random Forest binary model"
   ]
  },
  {
   "cell_type": "code",
   "execution_count": 30,
   "id": "8940d211",
   "metadata": {},
   "outputs": [],
   "source": [
    "def rf_prediction(X_train, Y_train, X_test, random_state_value = 42):   \n",
    "    # Train RF model\n",
    "    rf = RandomForestClassifier(random_state = random_state_value)\n",
    "    rf.fit(X_train, Y_train)\n",
    "    \n",
    "    # Predict outputs\n",
    "    y_predicted_rf = rf.predict(X_test)\n",
    "    return y_predicted_rf"
   ]
  },
  {
   "cell_type": "code",
   "execution_count": 31,
   "id": "9999cc55",
   "metadata": {},
   "outputs": [
    {
     "data": {
      "text/markdown": [
       "**Random Forest Binary Model:**"
      ],
      "text/plain": [
       "<IPython.core.display.Markdown object>"
      ]
     },
     "metadata": {},
     "output_type": "display_data"
    },
    {
     "data": {
      "text/markdown": [
       "**Confusion matrix**"
      ],
      "text/plain": [
       "<IPython.core.display.Markdown object>"
      ]
     },
     "metadata": {},
     "output_type": "display_data"
    },
    {
     "name": "stdout",
     "output_type": "stream",
     "text": [
      "Predicted    0     1   All\n",
      "Actual                    \n",
      "0           41   135   176\n",
      "1          672  2027  2699\n",
      "All        713  2162  2875\n"
     ]
    },
    {
     "data": {
      "text/markdown": [
       "**Model Metrics**"
      ],
      "text/plain": [
       "<IPython.core.display.Markdown object>"
      ]
     },
     "metadata": {},
     "output_type": "display_data"
    },
    {
     "name": "stdout",
     "output_type": "stream",
     "text": [
      "Precision  Recall     Accuracy   F1        \n",
      "1.0        1.0        1.0        1.0       \n"
     ]
    }
   ],
   "source": [
    "# Predicted fault values using RF\n",
    "y_predicted_rf = rf_prediction(X_train.iloc[:, :-1], y_train, X_test.iloc[:, :-1])\n",
    "\n",
    "printmd(\"**Random Forest Binary Model:**\")\n",
    "\n",
    "model_metrics_confusion_matrix(y_test, y_predicted_rf)\n",
    "\n",
    "# Collect and print model metrics\n",
    "result = model_metrics_others(y_test, y_predicted_rf)\n",
    "model_metrics_others_print_simple(result)\n",
    "result.insert(0, 'Random Forest Binary Model')\n",
    "diff_models_results.append(result)"
   ]
  },
  {
   "cell_type": "markdown",
   "id": "430cf9cc",
   "metadata": {},
   "source": [
    "## Random Forest Multiclass Model"
   ]
  },
  {
   "cell_type": "code",
   "execution_count": 40,
   "id": "6ccb1757",
   "metadata": {},
   "outputs": [],
   "source": [
    "# Preprocessing\n",
    "# Transforming non numerical labels into numerical labels\n",
    "encoder = preprocessing.LabelEncoder()\n",
    "\n",
    "# Encoding train labels \n",
    "encoder.fit(y_train_mlr)\n",
    "y_train_encoded = encoder.transform(y_train_mlr)\n",
    "\n",
    "# Encoding test labels \n",
    "encoder.fit(y_test_mlr)\n",
    "y_test_encoded = encoder.transform(y_test_mlr)\n",
    "\n",
    "# Scaling the Train and Test feature set \n",
    "scaler = StandardScaler()\n",
    "X_train_scaled = pd.DataFrame(scaler.fit_transform(X_train.iloc[:, :-1]), columns = X_train.iloc[:, :-1].columns)\n",
    "X_test_scaled = pd.DataFrame(scaler.transform(X_test.iloc[:, :-1]) ,columns = X_test.iloc[:, :-1].columns)"
   ]
  },
  {
   "cell_type": "code",
   "execution_count": 72,
   "id": "2a52e271",
   "metadata": {},
   "outputs": [],
   "source": [
    "def mrf_prediction(X_train, Y_train, X_test, random_state_value = 42):\n",
    "    # Train RF model\n",
    "    rf = RandomForestClassifier(random_state = random_state_value)\n",
    "    rf.fit(X_train, Y_train);\n",
    "    \n",
    "    # Predict outputs\n",
    "    y_predicted_mrf = rf.predict(X_test)\n",
    "    \n",
    "    # feature importance scores\n",
    "    importances = rf.feature_importances_\n",
    "    sorted_indices = np.argsort(importances[importances>0])[::-1]\n",
    "    plt.title('Feature Importance')\n",
    "    plt.bar(range(len(importances[importances>0])), importances[importances>0][sorted_indices], align='center')\n",
    "    plt.xticks(range(len(importances[importances>0])), X_train_scaled.columns[importances>0][sorted_indices], rotation=90)\n",
    "    plt.tight_layout()\n",
    "    plt.show()\n",
    "    \n",
    "    return y_predicted_mrf"
   ]
  },
  {
   "cell_type": "code",
   "execution_count": 74,
   "id": "f347f8f5",
   "metadata": {},
   "outputs": [
    {
     "data": {
      "image/png": "[encoded data removed]",
      "text/plain": [
       "<Figure size 432x288 with 1 Axes>"
      ]
     },
     "metadata": {},
     "output_type": "display_data"
    },
    {
     "data": {
      "text/markdown": [
       "**Random Forest Multiclass Model:**"
      ],
      "text/plain": [
       "<IPython.core.display.Markdown object>"
      ]
     },
     "metadata": {},
     "output_type": "display_data"
    },
    {
     "data": {
      "text/markdown": [
       "**Confusion matrix**"
      ],
      "text/plain": [
       "<IPython.core.display.Markdown object>"
      ]
     },
     "metadata": {},
     "output_type": "display_data"
    },
    {
     "name": "stdout",
     "output_type": "stream",
     "text": [
      "Predicted     Air blockage  Air leakage  Diverted flow  Normal  Slugging   All\n",
      "Actual                                                                        \n",
      "Air blockage           432          414            578     558       244  2226\n",
      "Air leakage             89          101            115     114        54   473\n",
      "Normal                  36           32             48      41        19   176\n",
      "All                    557          547            741     713       317  2875\n",
      "               precision    recall  f1-score   support\n",
      "\n",
      " Air blockage       1.00      1.00      1.00      2226\n",
      "  Air leakage       1.00      1.00      1.00      2060\n",
      "Diverted flow       1.00      1.00      1.00      2862\n",
      "       Normal       1.00      1.00      1.00      3024\n",
      "     Slugging       1.00      1.00      1.00      1183\n",
      "\n",
      "     accuracy                           1.00     11355\n",
      "    macro avg       1.00      1.00      1.00     11355\n",
      " weighted avg       1.00      1.00      1.00     11355\n",
      "\n"
     ]
    },
    {
     "data": {
      "text/markdown": [
       "**Model Metrics**"
      ],
      "text/plain": [
       "<IPython.core.display.Markdown object>"
      ]
     },
     "metadata": {},
     "output_type": "display_data"
    },
    {
     "name": "stdout",
     "output_type": "stream",
     "text": [
      "Precision  Recall     Accuracy   F1        \n",
      "1.0        1.0        1.0        1.0       \n"
     ]
    }
   ],
   "source": [
    "# Predicted fault values using MRF\n",
    "y_predicted_mrf = mrf_prediction(X_train_scaled, y_train_mlr, X_test_scaled)\n",
    "\n",
    "printmd(\"**Random Forest Multiclass Model:**\")\n",
    "\n",
    "model_metrics_confusion_matrix(y_test_mlr, y_predicted_mrf)\n",
    "print(classification_report(y_test_mlr, y_predicted_mrf))\n",
    "\n",
    "# Collect and print model metrics\n",
    "result = [precision_score(y_test_mlr,y_predicted_mrf, average=\"macro\"),\n",
    "          recall_score(y_test_mlr,y_predicted_mrf, average=\"macro\"),\n",
    "          accuracy_score(y_test_mlr,y_predicted_mrf),\n",
    "          f1_score(y_test_mlr,y_predicted_mrf, average=\"macro\")]\n",
    "model_metrics_others_print_simple(result)\n",
    "result.insert(0, 'Random Forest Multiclass Model')\n",
    "diff_models_results.append(result)"
   ]
  },
  {
   "cell_type": "markdown",
   "id": "9b227ce6",
   "metadata": {},
   "source": [
    "## Support Vector Machines"
   ]
  },
  {
   "cell_type": "code",
   "execution_count": 75,
   "id": "d78f0c48",
   "metadata": {},
   "outputs": [],
   "source": [
    "def svm_prediction(X_train, Y_train, X_test, encoder):\n",
    "    # Train SVM model\n",
    "    svm_model = svm.SVC(kernel='rbf', gamma=0.5, C=0.1).fit(X_train, Y_train)\n",
    "    #poly = svm.SVC(kernel='poly', degree=3, C=1).fit(X_train, Y_train)\n",
    "    \n",
    "    # Predict outputs\n",
    "    y_predicted_svm = svm_model.predict(X_test)    \n",
    "    y_predicted_svm = y_predicted_svm.astype(int)\n",
    "    y_predicted_svm_label = list(encoder.inverse_transform(y_predicted_svm))\n",
    "\n",
    "    return y_predicted_svm_label"
   ]
  },
  {
   "cell_type": "code",
   "execution_count": 76,
   "id": "d0e46dc3",
   "metadata": {},
   "outputs": [
    {
     "data": {
      "text/markdown": [
       "**SVM RBF Kernel Model:**"
      ],
      "text/plain": [
       "<IPython.core.display.Markdown object>"
      ]
     },
     "metadata": {},
     "output_type": "display_data"
    },
    {
     "data": {
      "text/markdown": [
       "**Confusion matrix**"
      ],
      "text/plain": [
       "<IPython.core.display.Markdown object>"
      ]
     },
     "metadata": {},
     "output_type": "display_data"
    },
    {
     "name": "stdout",
     "output_type": "stream",
     "text": [
      "Predicted     Air blockage  Air leakage  Diverted flow  Normal  Slugging   All\n",
      "Actual                                                                        \n",
      "Air blockage           437          391            579     587       232  2226\n",
      "Air leakage             93           94            117     116        53   473\n",
      "Normal                  36           29             48      47        16   176\n",
      "All                    566          514            744     750       301  2875\n"
     ]
    },
    {
     "data": {
      "text/markdown": [
       "**Model Metrics**"
      ],
      "text/plain": [
       "<IPython.core.display.Markdown object>"
      ]
     },
     "metadata": {},
     "output_type": "display_data"
    },
    {
     "name": "stdout",
     "output_type": "stream",
     "text": [
      "Precision  Recall     Accuracy   F1        \n",
      "0.97       0.96       0.97       0.97      \n"
     ]
    }
   ],
   "source": [
    "# Predicted fault values using SVM\n",
    "y_predicted_svm = svm_prediction(X_train_scaled, y_train_encoded, X_test_scaled, encoder)\n",
    "\n",
    "printmd(\"**SVM RBF Kernel Model:**\")\n",
    "\n",
    "model_metrics_confusion_matrix(y_test_mlr, y_predicted_svm)\n",
    "\n",
    "# Collect and print model metrics\n",
    "result = [precision_score(y_test_mlr,y_predicted_svm, average=\"macro\"),\n",
    "          recall_score(y_test_mlr,y_predicted_svm, average=\"macro\"),\n",
    "          accuracy_score(y_test_mlr,y_predicted_svm),\n",
    "          f1_score(y_test_mlr,y_predicted_svm, average=\"macro\")]\n",
    "model_metrics_others_print_simple(result)\n",
    "result.insert(0, 'SVM RBF Kernel Model')\n",
    "diff_models_results.append(result)"
   ]
  },
  {
   "cell_type": "markdown",
   "id": "1ac0066b",
   "metadata": {},
   "source": [
    "## All models together"
   ]
  },
  {
   "cell_type": "code",
   "execution_count": 77,
   "id": "16d323c1",
   "metadata": {},
   "outputs": [
    {
     "name": "stdout",
     "output_type": "stream",
     "text": [
      "Model                                    Precision  Recall     Accuracy   F1        \n",
      "AAKR                                     0.69       1.0        0.69       0.82      \n",
      "PCR with Linear Regression               0.82       0.97       0.83       0.89      \n",
      "PCR with Logistic Binary Regression      0.83       0.97       0.83       0.89      \n",
      "PCR with Logistic Multiclass Regression  0.65       0.63       0.61       0.61      \n",
      "Random Forest Binary Model               1.0        1.0        1.0        1.0       \n",
      "Random Forest Multiclass Model           1.0        1.0        1.0        1.0       \n",
      "SVM RBF Kernel Model                     0.97       0.96       0.97       0.97      \n"
     ]
    }
   ],
   "source": [
    "print (\"{:<40} {:<10} {:<10} {:<10} {:<10}\".format('Model','Precision','Recall','Accuracy','F1'))\n",
    "for v in diff_models_results:\n",
    "    model, precision, recall, accuracy, f1 = v\n",
    "    print (\"{:<40} {:<10} {:<10} {:<10} {:<10}\".format(model ,round(float(precision),2), round(float(recall),2), \n",
    "                                                       round(float(accuracy),2), round(float(f1),2)))"
   ]
  },
  {
   "cell_type": "markdown",
   "id": "33640bd1",
   "metadata": {},
   "source": [
    "## PRONTO publication approaches: \n",
    "* PCA-enhanced CVA \n",
    "* Bayesian "
   ]
  },
  {
   "cell_type": "code",
   "execution_count": 48,
   "id": "292e6bee",
   "metadata": {},
   "outputs": [],
   "source": [
    "df = pd.concat([df1, df2], ignore_index=True, sort=False)\n",
    "df = df.dropna(axis='columns')\n",
    "df = df.iloc[:,11:29] # removing alarms"
   ]
  },
  {
   "cell_type": "code",
   "execution_count": 49,
   "id": "310ea4bc",
   "metadata": {},
   "outputs": [],
   "source": [
    "# Due to the compression and quantization issues (???),\n",
    "# the temperature and density measurements (FT305-T, FT102-T and FT102-D) are removed.\n",
    "# FT305-T\tInput air temperature\t°C (Air.T)\n",
    "# FT102-T\tInput water temperature\t°C (Water.T)\n",
    "# FT102-D\tInput water density\tkg m−3 (Water.Density)\n",
    "df = df.drop(['Air.T','Water.T','Water.Density'],axis=1) "
   ]
  },
  {
   "cell_type": "code",
   "execution_count": 50,
   "id": "41690bc4",
   "metadata": {},
   "outputs": [],
   "source": [
    "# Operating condition A: 120 Sm3 h−1 air, 0.1 kg s−1 water flow rates\n",
    "# Operating condition B: 150 Sm3 h−1 air, 0.5 kg s−1 water flow rates.\n",
    "airA = 120\n",
    "air_sd = df['AirIn'].std()\n",
    "airB = 150\n",
    "\n",
    "waterA = 0.1\n",
    "water_sd = df['WaterIn'].std()\n",
    "waterB = 0.5"
   ]
  },
  {
   "cell_type": "code",
   "execution_count": 51,
   "id": "f98857eb",
   "metadata": {},
   "outputs": [
    {
     "data": {
      "text/html": [
       "<div>\n",
       "<style scoped>\n",
       "    .dataframe tbody tr th:only-of-type {\n",
       "        vertical-align: middle;\n",
       "    }\n",
       "\n",
       "    .dataframe tbody tr th {\n",
       "        vertical-align: top;\n",
       "    }\n",
       "\n",
       "    .dataframe thead th {\n",
       "        text-align: right;\n",
       "    }\n",
       "</style>\n",
       "<table border=\"1\" class=\"dataframe\">\n",
       "  <thead>\n",
       "    <tr style=\"text-align: right;\">\n",
       "      <th></th>\n",
       "      <th>AirIn</th>\n",
       "      <th>Air.P</th>\n",
       "      <th>WaterIn</th>\n",
       "      <th>Mixture.zone.P</th>\n",
       "      <th>riser.outlet.P</th>\n",
       "      <th>P.topsep</th>\n",
       "      <th>FR.topsep.gas</th>\n",
       "      <th>FR.topsep.liquid</th>\n",
       "      <th>P_3phase</th>\n",
       "      <th>Air.Valve</th>\n",
       "      <th>Water.level</th>\n",
       "      <th>Water.coalescer</th>\n",
       "      <th>Water.level.valve</th>\n",
       "      <th>water.tank.level</th>\n",
       "    </tr>\n",
       "  </thead>\n",
       "  <tbody>\n",
       "    <tr>\n",
       "      <th>count</th>\n",
       "      <td>16308.000000</td>\n",
       "      <td>16308.000000</td>\n",
       "      <td>16308.000000</td>\n",
       "      <td>16308.000000</td>\n",
       "      <td>16308.000000</td>\n",
       "      <td>16308.000000</td>\n",
       "      <td>16308.000000</td>\n",
       "      <td>16308.000000</td>\n",
       "      <td>16308.000000</td>\n",
       "      <td>16308.000000</td>\n",
       "      <td>16308.000000</td>\n",
       "      <td>16308.000000</td>\n",
       "      <td>16308.000000</td>\n",
       "      <td>16308.000000</td>\n",
       "    </tr>\n",
       "    <tr>\n",
       "      <th>mean</th>\n",
       "      <td>119.772820</td>\n",
       "      <td>1.383078</td>\n",
       "      <td>0.097545</td>\n",
       "      <td>1.281389</td>\n",
       "      <td>1.017945</td>\n",
       "      <td>1.021418</td>\n",
       "      <td>0.095771</td>\n",
       "      <td>0.071741</td>\n",
       "      <td>1.000189</td>\n",
       "      <td>23.307934</td>\n",
       "      <td>61.831026</td>\n",
       "      <td>98.731932</td>\n",
       "      <td>2.295955</td>\n",
       "      <td>1.432547</td>\n",
       "    </tr>\n",
       "    <tr>\n",
       "      <th>std</th>\n",
       "      <td>2.315698</td>\n",
       "      <td>0.594256</td>\n",
       "      <td>0.005135</td>\n",
       "      <td>0.171539</td>\n",
       "      <td>0.050719</td>\n",
       "      <td>0.023610</td>\n",
       "      <td>1.209138</td>\n",
       "      <td>0.108823</td>\n",
       "      <td>0.023521</td>\n",
       "      <td>5.540345</td>\n",
       "      <td>1.142167</td>\n",
       "      <td>0.101725</td>\n",
       "      <td>2.687068</td>\n",
       "      <td>0.009571</td>\n",
       "    </tr>\n",
       "    <tr>\n",
       "      <th>min</th>\n",
       "      <td>102.966904</td>\n",
       "      <td>1.138369</td>\n",
       "      <td>0.091159</td>\n",
       "      <td>1.129860</td>\n",
       "      <td>0.920644</td>\n",
       "      <td>0.929620</td>\n",
       "      <td>0.000000</td>\n",
       "      <td>-2.879891</td>\n",
       "      <td>0.907659</td>\n",
       "      <td>0.473675</td>\n",
       "      <td>50.160221</td>\n",
       "      <td>98.352493</td>\n",
       "      <td>0.000000</td>\n",
       "      <td>1.413100</td>\n",
       "    </tr>\n",
       "    <tr>\n",
       "      <th>25%</th>\n",
       "      <td>118.931702</td>\n",
       "      <td>1.249580</td>\n",
       "      <td>0.095132</td>\n",
       "      <td>1.218456</td>\n",
       "      <td>1.010767</td>\n",
       "      <td>1.018300</td>\n",
       "      <td>0.000163</td>\n",
       "      <td>0.053559</td>\n",
       "      <td>0.997247</td>\n",
       "      <td>24.900022</td>\n",
       "      <td>61.769755</td>\n",
       "      <td>98.686327</td>\n",
       "      <td>1.398820</td>\n",
       "      <td>1.422634</td>\n",
       "    </tr>\n",
       "    <tr>\n",
       "      <th>50%</th>\n",
       "      <td>119.518204</td>\n",
       "      <td>1.276749</td>\n",
       "      <td>0.097175</td>\n",
       "      <td>1.229317</td>\n",
       "      <td>1.016489</td>\n",
       "      <td>1.020608</td>\n",
       "      <td>0.000375</td>\n",
       "      <td>0.068358</td>\n",
       "      <td>0.999314</td>\n",
       "      <td>25.061510</td>\n",
       "      <td>61.976429</td>\n",
       "      <td>98.718483</td>\n",
       "      <td>2.332684</td>\n",
       "      <td>1.430387</td>\n",
       "    </tr>\n",
       "    <tr>\n",
       "      <th>75%</th>\n",
       "      <td>120.619698</td>\n",
       "      <td>1.296556</td>\n",
       "      <td>0.099599</td>\n",
       "      <td>1.283959</td>\n",
       "      <td>1.021973</td>\n",
       "      <td>1.023461</td>\n",
       "      <td>0.001196</td>\n",
       "      <td>0.081438</td>\n",
       "      <td>1.002459</td>\n",
       "      <td>25.150372</td>\n",
       "      <td>62.124600</td>\n",
       "      <td>98.769920</td>\n",
       "      <td>2.946758</td>\n",
       "      <td>1.441751</td>\n",
       "    </tr>\n",
       "    <tr>\n",
       "      <th>max</th>\n",
       "      <td>137.027893</td>\n",
       "      <td>7.138096</td>\n",
       "      <td>0.243839</td>\n",
       "      <td>3.229707</td>\n",
       "      <td>2.732414</td>\n",
       "      <td>1.324794</td>\n",
       "      <td>31.880859</td>\n",
       "      <td>2.563764</td>\n",
       "      <td>1.303609</td>\n",
       "      <td>33.817669</td>\n",
       "      <td>75.299454</td>\n",
       "      <td>99.876007</td>\n",
       "      <td>48.951672</td>\n",
       "      <td>1.447881</td>\n",
       "    </tr>\n",
       "  </tbody>\n",
       "</table>\n",
       "</div>"
      ],
      "text/plain": [
       "              AirIn         Air.P       WaterIn  Mixture.zone.P  \\\n",
       "count  16308.000000  16308.000000  16308.000000    16308.000000   \n",
       "mean     119.772820      1.383078      0.097545        1.281389   \n",
       "std        2.315698      0.594256      0.005135        0.171539   \n",
       "min      102.966904      1.138369      0.091159        1.129860   \n",
       "25%      118.931702      1.249580      0.095132        1.218456   \n",
       "50%      119.518204      1.276749      0.097175        1.229317   \n",
       "75%      120.619698      1.296556      0.099599        1.283959   \n",
       "max      137.027893      7.138096      0.243839        3.229707   \n",
       "\n",
       "       riser.outlet.P      P.topsep  FR.topsep.gas  FR.topsep.liquid  \\\n",
       "count    16308.000000  16308.000000   16308.000000      16308.000000   \n",
       "mean         1.017945      1.021418       0.095771          0.071741   \n",
       "std          0.050719      0.023610       1.209138          0.108823   \n",
       "min          0.920644      0.929620       0.000000         -2.879891   \n",
       "25%          1.010767      1.018300       0.000163          0.053559   \n",
       "50%          1.016489      1.020608       0.000375          0.068358   \n",
       "75%          1.021973      1.023461       0.001196          0.081438   \n",
       "max          2.732414      1.324794      31.880859          2.563764   \n",
       "\n",
       "           P_3phase     Air.Valve   Water.level  Water.coalescer  \\\n",
       "count  16308.000000  16308.000000  16308.000000     16308.000000   \n",
       "mean       1.000189     23.307934     61.831026        98.731932   \n",
       "std        0.023521      5.540345      1.142167         0.101725   \n",
       "min        0.907659      0.473675     50.160221        98.352493   \n",
       "25%        0.997247     24.900022     61.769755        98.686327   \n",
       "50%        0.999314     25.061510     61.976429        98.718483   \n",
       "75%        1.002459     25.150372     62.124600        98.769920   \n",
       "max        1.303609     33.817669     75.299454        99.876007   \n",
       "\n",
       "       Water.level.valve  water.tank.level  \n",
       "count       16308.000000      16308.000000  \n",
       "mean            2.295955          1.432547  \n",
       "std             2.687068          0.009571  \n",
       "min             0.000000          1.413100  \n",
       "25%             1.398820          1.422634  \n",
       "50%             2.332684          1.430387  \n",
       "75%             2.946758          1.441751  \n",
       "max            48.951672          1.447881  "
      ]
     },
     "execution_count": 51,
     "metadata": {},
     "output_type": "execute_result"
    }
   ],
   "source": [
    "testA = df[(df['AirIn']<=airA+air_sd) & (df['AirIn']>=airA-air_sd) & (df['WaterIn']<=waterA+water_sd) & (df['WaterIn']>=waterA-water_sd)]\n",
    "testA.describe()"
   ]
  },
  {
   "cell_type": "code",
   "execution_count": 52,
   "id": "d27c78a6",
   "metadata": {},
   "outputs": [
    {
     "data": {
      "text/html": [
       "<div>\n",
       "<style scoped>\n",
       "    .dataframe tbody tr th:only-of-type {\n",
       "        vertical-align: middle;\n",
       "    }\n",
       "\n",
       "    .dataframe tbody tr th {\n",
       "        vertical-align: top;\n",
       "    }\n",
       "\n",
       "    .dataframe thead th {\n",
       "        text-align: right;\n",
       "    }\n",
       "</style>\n",
       "<table border=\"1\" class=\"dataframe\">\n",
       "  <thead>\n",
       "    <tr style=\"text-align: right;\">\n",
       "      <th></th>\n",
       "      <th>AirIn</th>\n",
       "      <th>Air.P</th>\n",
       "      <th>WaterIn</th>\n",
       "      <th>Mixture.zone.P</th>\n",
       "      <th>riser.outlet.P</th>\n",
       "      <th>P.topsep</th>\n",
       "      <th>FR.topsep.gas</th>\n",
       "      <th>FR.topsep.liquid</th>\n",
       "      <th>P_3phase</th>\n",
       "      <th>Air.Valve</th>\n",
       "      <th>Water.level</th>\n",
       "      <th>Water.coalescer</th>\n",
       "      <th>Water.level.valve</th>\n",
       "      <th>water.tank.level</th>\n",
       "    </tr>\n",
       "  </thead>\n",
       "  <tbody>\n",
       "    <tr>\n",
       "      <th>count</th>\n",
       "      <td>16035.000000</td>\n",
       "      <td>16035.000000</td>\n",
       "      <td>16035.000000</td>\n",
       "      <td>16035.000000</td>\n",
       "      <td>16035.000000</td>\n",
       "      <td>16035.000000</td>\n",
       "      <td>16035.000000</td>\n",
       "      <td>16035.000000</td>\n",
       "      <td>16035.000000</td>\n",
       "      <td>16035.000000</td>\n",
       "      <td>16035.000000</td>\n",
       "      <td>16035.000000</td>\n",
       "      <td>16035.000000</td>\n",
       "      <td>16035.000000</td>\n",
       "    </tr>\n",
       "    <tr>\n",
       "      <th>mean</th>\n",
       "      <td>149.949050</td>\n",
       "      <td>1.618649</td>\n",
       "      <td>0.496727</td>\n",
       "      <td>1.538002</td>\n",
       "      <td>1.113941</td>\n",
       "      <td>1.014170</td>\n",
       "      <td>5.507931</td>\n",
       "      <td>0.747982</td>\n",
       "      <td>0.991804</td>\n",
       "      <td>22.222423</td>\n",
       "      <td>61.857720</td>\n",
       "      <td>98.583863</td>\n",
       "      <td>7.421933</td>\n",
       "      <td>1.427155</td>\n",
       "    </tr>\n",
       "    <tr>\n",
       "      <th>std</th>\n",
       "      <td>2.084516</td>\n",
       "      <td>0.300978</td>\n",
       "      <td>0.013942</td>\n",
       "      <td>0.240872</td>\n",
       "      <td>0.089169</td>\n",
       "      <td>0.035203</td>\n",
       "      <td>3.652627</td>\n",
       "      <td>0.369621</td>\n",
       "      <td>0.034533</td>\n",
       "      <td>9.897779</td>\n",
       "      <td>1.240844</td>\n",
       "      <td>0.182677</td>\n",
       "      <td>3.462573</td>\n",
       "      <td>0.011996</td>\n",
       "    </tr>\n",
       "    <tr>\n",
       "      <th>min</th>\n",
       "      <td>133.017700</td>\n",
       "      <td>0.607549</td>\n",
       "      <td>0.300948</td>\n",
       "      <td>0.997974</td>\n",
       "      <td>0.820029</td>\n",
       "      <td>0.845333</td>\n",
       "      <td>0.000000</td>\n",
       "      <td>-4.607517</td>\n",
       "      <td>0.822942</td>\n",
       "      <td>0.030689</td>\n",
       "      <td>52.973598</td>\n",
       "      <td>97.675377</td>\n",
       "      <td>0.000000</td>\n",
       "      <td>1.393454</td>\n",
       "    </tr>\n",
       "    <tr>\n",
       "      <th>25%</th>\n",
       "      <td>148.381607</td>\n",
       "      <td>1.495869</td>\n",
       "      <td>0.496354</td>\n",
       "      <td>1.418648</td>\n",
       "      <td>1.078241</td>\n",
       "      <td>1.016609</td>\n",
       "      <td>1.496053</td>\n",
       "      <td>0.513504</td>\n",
       "      <td>0.994343</td>\n",
       "      <td>24.551280</td>\n",
       "      <td>61.832094</td>\n",
       "      <td>98.533588</td>\n",
       "      <td>7.421128</td>\n",
       "      <td>1.420514</td>\n",
       "    </tr>\n",
       "    <tr>\n",
       "      <th>50%</th>\n",
       "      <td>149.278107</td>\n",
       "      <td>1.674486</td>\n",
       "      <td>0.497705</td>\n",
       "      <td>1.455840</td>\n",
       "      <td>1.130932</td>\n",
       "      <td>1.021603</td>\n",
       "      <td>6.834418</td>\n",
       "      <td>0.717526</td>\n",
       "      <td>0.998893</td>\n",
       "      <td>27.343081</td>\n",
       "      <td>61.993111</td>\n",
       "      <td>98.632072</td>\n",
       "      <td>7.970311</td>\n",
       "      <td>1.425116</td>\n",
       "    </tr>\n",
       "    <tr>\n",
       "      <th>75%</th>\n",
       "      <td>151.538300</td>\n",
       "      <td>1.712556</td>\n",
       "      <td>0.499793</td>\n",
       "      <td>1.505571</td>\n",
       "      <td>1.163119</td>\n",
       "      <td>1.025204</td>\n",
       "      <td>7.987027</td>\n",
       "      <td>0.969553</td>\n",
       "      <td>1.002390</td>\n",
       "      <td>27.463650</td>\n",
       "      <td>62.127424</td>\n",
       "      <td>98.686626</td>\n",
       "      <td>8.229408</td>\n",
       "      <td>1.440040</td>\n",
       "    </tr>\n",
       "    <tr>\n",
       "      <th>max</th>\n",
       "      <td>157.742004</td>\n",
       "      <td>6.604678</td>\n",
       "      <td>0.528756</td>\n",
       "      <td>3.377301</td>\n",
       "      <td>2.905509</td>\n",
       "      <td>1.316939</td>\n",
       "      <td>43.671860</td>\n",
       "      <td>2.840868</td>\n",
       "      <td>1.294650</td>\n",
       "      <td>33.269218</td>\n",
       "      <td>72.624359</td>\n",
       "      <td>99.537453</td>\n",
       "      <td>47.577122</td>\n",
       "      <td>1.445096</td>\n",
       "    </tr>\n",
       "  </tbody>\n",
       "</table>\n",
       "</div>"
      ],
      "text/plain": [
       "              AirIn         Air.P       WaterIn  Mixture.zone.P  \\\n",
       "count  16035.000000  16035.000000  16035.000000    16035.000000   \n",
       "mean     149.949050      1.618649      0.496727        1.538002   \n",
       "std        2.084516      0.300978      0.013942        0.240872   \n",
       "min      133.017700      0.607549      0.300948        0.997974   \n",
       "25%      148.381607      1.495869      0.496354        1.418648   \n",
       "50%      149.278107      1.674486      0.497705        1.455840   \n",
       "75%      151.538300      1.712556      0.499793        1.505571   \n",
       "max      157.742004      6.604678      0.528756        3.377301   \n",
       "\n",
       "       riser.outlet.P      P.topsep  FR.topsep.gas  FR.topsep.liquid  \\\n",
       "count    16035.000000  16035.000000   16035.000000      16035.000000   \n",
       "mean         1.113941      1.014170       5.507931          0.747982   \n",
       "std          0.089169      0.035203       3.652627          0.369621   \n",
       "min          0.820029      0.845333       0.000000         -4.607517   \n",
       "25%          1.078241      1.016609       1.496053          0.513504   \n",
       "50%          1.130932      1.021603       6.834418          0.717526   \n",
       "75%          1.163119      1.025204       7.987027          0.969553   \n",
       "max          2.905509      1.316939      43.671860          2.840868   \n",
       "\n",
       "           P_3phase     Air.Valve   Water.level  Water.coalescer  \\\n",
       "count  16035.000000  16035.000000  16035.000000     16035.000000   \n",
       "mean       0.991804     22.222423     61.857720        98.583863   \n",
       "std        0.034533      9.897779      1.240844         0.182677   \n",
       "min        0.822942      0.030689     52.973598        97.675377   \n",
       "25%        0.994343     24.551280     61.832094        98.533588   \n",
       "50%        0.998893     27.343081     61.993111        98.632072   \n",
       "75%        1.002390     27.463650     62.127424        98.686626   \n",
       "max        1.294650     33.269218     72.624359        99.537453   \n",
       "\n",
       "       Water.level.valve  water.tank.level  \n",
       "count       16035.000000      16035.000000  \n",
       "mean            7.421933          1.427155  \n",
       "std             3.462573          0.011996  \n",
       "min             0.000000          1.393454  \n",
       "25%             7.421128          1.420514  \n",
       "50%             7.970311          1.425116  \n",
       "75%             8.229408          1.440040  \n",
       "max            47.577122          1.445096  "
      ]
     },
     "execution_count": 52,
     "metadata": {},
     "output_type": "execute_result"
    }
   ],
   "source": [
    "testB = df[(df['AirIn']<=airB+air_sd) & (df['AirIn']>=airB-air_sd) & (df['WaterIn']<=waterB+water_sd) & (df['WaterIn']>=waterB-water_sd)]\n",
    "testB.describe()"
   ]
  },
  {
   "cell_type": "code",
   "execution_count": 515,
   "id": "4b13613d",
   "metadata": {},
   "outputs": [],
   "source": [
    "# Attempt to replicate publication results\n",
    "# Operating condition A - testA\n",
    "# Operating condition B - testB\n",
    "# A fault is defined to be detected once at least one of the monitoring statistics \n",
    "# exceeds its control limit for more than 20 samples.\n",
    "\n",
    "# Split into train and test sets\n",
    "rng = np.random.RandomState(0)\n",
    "X_train, X_test = train_test_split(testA, random_state=rng, train_size=0.9)\n",
    "X_train = X_train[X_train['Fault']=='Normal'].iloc[:, :-1]\n",
    "y_test = X_test['Fault']\n",
    "X_test = X_test.iloc[:, :-1]"
   ]
  },
  {
   "cell_type": "code",
   "execution_count": 516,
   "id": "49e98fd8",
   "metadata": {},
   "outputs": [
    {
     "name": "stdout",
     "output_type": "stream",
     "text": [
      "(2156, 14)\n",
      "(1631, 14)\n"
     ]
    }
   ],
   "source": [
    "print(X_train.shape)\n",
    "print(X_test.shape)"
   ]
  },
  {
   "cell_type": "markdown",
   "id": "c872f232",
   "metadata": {},
   "source": [
    "## Nice plots"
   ]
  },
  {
   "cell_type": "code",
   "execution_count": 54,
   "id": "329292ea",
   "metadata": {},
   "outputs": [],
   "source": [
    "from sklearn.discriminant_analysis import LinearDiscriminantAnalysis\n",
    "lda = LinearDiscriminantAnalysis()\n",
    "X_lda = lda.fit_transform(X_train, y_train)"
   ]
  },
  {
   "cell_type": "code",
   "execution_count": 55,
   "id": "7b322698",
   "metadata": {},
   "outputs": [
    {
     "data": {
      "text/plain": [
       "array([0.67274218, 0.30750058, 0.01975724])"
      ]
     },
     "execution_count": 55,
     "metadata": {},
     "output_type": "execute_result"
    }
   ],
   "source": [
    "lda.explained_variance_ratio_"
   ]
  },
  {
   "cell_type": "code",
   "execution_count": 60,
   "id": "ac917dfc",
   "metadata": {},
   "outputs": [
    {
     "data": {
      "image/png": "[encoded data removed]",
      "text/plain": [
       "<Figure size 432x288 with 1 Axes>"
      ]
     },
     "metadata": {
      "needs_background": "light"
     },
     "output_type": "display_data"
    }
   ],
   "source": [
    "fig, ax = plt.subplots()\n",
    "group = np.array(y_train)\n",
    "plt.xlabel('LD1')\n",
    "plt.ylabel('LD2')\n",
    "for g in np.unique(group):\n",
    "    i = np.where(group == g)\n",
    "    ax.scatter(X_lda[i,0], X_lda[i,1], label=g)\n",
    "ax.legend()\n",
    "plt.show()"
   ]
  },
  {
   "cell_type": "markdown",
   "id": "ad6bc7c4",
   "metadata": {},
   "source": [
    "## PCA - enhanced LDA (Linear Discriminant Analysis or Canonical Variate Analysis) "
   ]
  },
  {
   "cell_type": "code",
   "execution_count": 89,
   "id": "91cd5af8",
   "metadata": {},
   "outputs": [],
   "source": [
    "from sklearn.decomposition import PCA\n",
    "pca = PCA(n_components=5)\n",
    "X_pca = pca.fit_transform(X_train)\n",
    "X_pca_test = pca.fit_transform(X_test)"
   ]
  },
  {
   "cell_type": "code",
   "execution_count": 90,
   "id": "ea804c35",
   "metadata": {},
   "outputs": [
    {
     "data": {
      "text/plain": [
       "array([0.78172068, 0.16819395, 0.033455  , 0.01079735, 0.00372179])"
      ]
     },
     "execution_count": 90,
     "metadata": {},
     "output_type": "execute_result"
    }
   ],
   "source": [
    "pca.explained_variance_ratio_"
   ]
  },
  {
   "cell_type": "code",
   "execution_count": 115,
   "id": "149afb55",
   "metadata": {},
   "outputs": [],
   "source": [
    "lda = LinearDiscriminantAnalysis()\n",
    "X_pca_lda = lda.fit_transform(X_train, y_train)\n",
    "X_pca_lda_test = lda.transform(X_test)\n",
    "y_predicted = lda.predict(X_test)"
   ]
  },
  {
   "cell_type": "code",
   "execution_count": 103,
   "id": "8cf67a8e",
   "metadata": {},
   "outputs": [
    {
     "data": {
      "image/png": "[encoded data removed]",
      "text/plain": [
       "<Figure size 432x288 with 1 Axes>"
      ]
     },
     "metadata": {
      "needs_background": "light"
     },
     "output_type": "display_data"
    }
   ],
   "source": [
    "fig, ax = plt.subplots()\n",
    "group = np.array(y_train)\n",
    "plt.xlabel('LD1')\n",
    "plt.ylabel('LD2')\n",
    "for g in np.unique(group):\n",
    "    i = np.where(group == g)\n",
    "    ax.scatter(X_pca_lda[i,0], X_pca_lda[i,1], label=g)\n",
    "ax.legend()\n",
    "plt.show()"
   ]
  },
  {
   "cell_type": "code",
   "execution_count": 104,
   "id": "7fbd8c8c",
   "metadata": {},
   "outputs": [],
   "source": [
    "# Monitoring statistics: the Hotelling's T2 statistic and the squared prediction error (SPE).\n"
   ]
  },
  {
   "cell_type": "code",
   "execution_count": 105,
   "id": "052a59d8",
   "metadata": {},
   "outputs": [
    {
     "data": {
      "image/png": "[encoded data removed]",
      "text/plain": [
       "<Figure size 432x288 with 1 Axes>"
      ]
     },
     "metadata": {
      "needs_background": "light"
     },
     "output_type": "display_data"
    }
   ],
   "source": [
    "fig, ax = plt.subplots()\n",
    "group = np.array(y_test)\n",
    "plt.xlabel('LD1')\n",
    "plt.ylabel('LD2')\n",
    "for g in np.unique(group):\n",
    "    i = np.where(group == g)\n",
    "    ax.scatter(X_pca_lda_test[i,0], X_pca_lda_test[i,1], label=g)\n",
    "ax.legend()\n",
    "plt.show()"
   ]
  },
  {
   "cell_type": "code",
   "execution_count": 116,
   "id": "3d68ec4f",
   "metadata": {},
   "outputs": [
    {
     "data": {
      "text/markdown": [
       "**Model Metrics**"
      ],
      "text/plain": [
       "<IPython.core.display.Markdown object>"
      ]
     },
     "metadata": {},
     "output_type": "display_data"
    },
    {
     "name": "stdout",
     "output_type": "stream",
     "text": [
      "Precision  Recall     Accuracy   F1        \n",
      "0.82       0.79       0.84       0.79      \n"
     ]
    },
    {
     "data": {
      "text/markdown": [
       "**Confusion matrix**"
      ],
      "text/plain": [
       "<IPython.core.display.Markdown object>"
      ]
     },
     "metadata": {},
     "output_type": "display_data"
    },
    {
     "name": "stdout",
     "output_type": "stream",
     "text": [
      "Predicted     Air blockage  Air leakage  Diverted flow  Normal   All\n",
      "Actual                                                              \n",
      "Air blockage           632          326            805     260  2023\n",
      "Normal                  24           15             36       9    84\n",
      "All                    656          341            841     269  2107\n"
     ]
    }
   ],
   "source": [
    "# Collect and print model metrics\n",
    "result = [precision_score(y_test, y_predicted, average=\"macro\"),\n",
    "          recall_score(y_test, y_predicted, average=\"macro\"),\n",
    "          accuracy_score(y_test, y_predicted),\n",
    "          f1_score(y_test, y_predicted, average=\"macro\")]\n",
    "\n",
    "model_metrics_others_print_simple(result)\n",
    "\n",
    "model_metrics_confusion_matrix(y_test, y_predicted)"
   ]
  },
  {
   "cell_type": "code",
   "execution_count": 100,
   "id": "6bdb4371",
   "metadata": {},
   "outputs": [
    {
     "name": "stdout",
     "output_type": "stream",
     "text": [
      "[1 2 1 ... 0 0 2]\n"
     ]
    }
   ],
   "source": [
    "from sklearn.cluster import KMeans\n",
    "\n",
    "pca = PCA(2)\n",
    " \n",
    "#Transform the data\n",
    "kdf = pca.fit_transform(X_train.iloc[:, :-1])\n",
    "\n",
    "kmeans = KMeans(n_clusters = 3)\n",
    " \n",
    "label = kmeans.fit_predict(kdf)\n",
    " \n",
    "print(label)"
   ]
  },
  {
   "cell_type": "code",
   "execution_count": 112,
   "id": "ded34479",
   "metadata": {},
   "outputs": [
    {
     "data": {
      "text/plain": [
       "array([0, 1, 1, ..., 1, 0, 1], dtype=int64)"
      ]
     },
     "execution_count": 112,
     "metadata": {},
     "output_type": "execute_result"
    }
   ],
   "source": [
    "y_train.to_numpy()"
   ]
  },
  {
   "cell_type": "code",
   "execution_count": 111,
   "id": "ea2800cf",
   "metadata": {},
   "outputs": [
    {
     "ename": "ValueError",
     "evalue": "all the input array dimensions for the concatenation axis must match exactly, but along dimension 0, the array at index 0 has size 34065 and the array at index 1 has size 1",
     "output_type": "error",
     "traceback": [
      "\u001b[1;31m---------------------------------------------------------------------------\u001b[0m",
      "\u001b[1;31mValueError\u001b[0m                                Traceback (most recent call last)",
      "\u001b[1;32m~\\AppData\\Local\\Temp/ipykernel_22328/3481523087.py\u001b[0m in \u001b[0;36m<module>\u001b[1;34m\u001b[0m\n\u001b[1;32m----> 1\u001b[1;33m \u001b[0mnp\u001b[0m\u001b[1;33m.\u001b[0m\u001b[0mappend\u001b[0m\u001b[1;33m(\u001b[0m\u001b[0mkdf\u001b[0m\u001b[1;33m,\u001b[0m \u001b[1;33m[\u001b[0m\u001b[0my_train\u001b[0m\u001b[1;33m.\u001b[0m\u001b[0mto_numpy\u001b[0m\u001b[1;33m(\u001b[0m\u001b[1;33m)\u001b[0m\u001b[1;33m]\u001b[0m\u001b[1;33m,\u001b[0m \u001b[0maxis\u001b[0m\u001b[1;33m=\u001b[0m\u001b[1;36m1\u001b[0m\u001b[1;33m)\u001b[0m\u001b[1;33m\u001b[0m\u001b[1;33m\u001b[0m\u001b[0m\n\u001b[0m\u001b[0;32m      2\u001b[0m \u001b[0mkdf\u001b[0m\u001b[1;33m\u001b[0m\u001b[1;33m\u001b[0m\u001b[0m\n",
      "\u001b[1;32m<__array_function__ internals>\u001b[0m in \u001b[0;36mappend\u001b[1;34m(*args, **kwargs)\u001b[0m\n",
      "\u001b[1;32m~\\anaconda3\\envs\\lab_automation\\lib\\site-packages\\numpy\\lib\\function_base.py\u001b[0m in \u001b[0;36mappend\u001b[1;34m(arr, values, axis)\u001b[0m\n\u001b[0;32m   4815\u001b[0m         \u001b[0mvalues\u001b[0m \u001b[1;33m=\u001b[0m \u001b[0mravel\u001b[0m\u001b[1;33m(\u001b[0m\u001b[0mvalues\u001b[0m\u001b[1;33m)\u001b[0m\u001b[1;33m\u001b[0m\u001b[1;33m\u001b[0m\u001b[0m\n\u001b[0;32m   4816\u001b[0m         \u001b[0maxis\u001b[0m \u001b[1;33m=\u001b[0m \u001b[0marr\u001b[0m\u001b[1;33m.\u001b[0m\u001b[0mndim\u001b[0m\u001b[1;33m-\u001b[0m\u001b[1;36m1\u001b[0m\u001b[1;33m\u001b[0m\u001b[1;33m\u001b[0m\u001b[0m\n\u001b[1;32m-> 4817\u001b[1;33m     \u001b[1;32mreturn\u001b[0m \u001b[0mconcatenate\u001b[0m\u001b[1;33m(\u001b[0m\u001b[1;33m(\u001b[0m\u001b[0marr\u001b[0m\u001b[1;33m,\u001b[0m \u001b[0mvalues\u001b[0m\u001b[1;33m)\u001b[0m\u001b[1;33m,\u001b[0m \u001b[0maxis\u001b[0m\u001b[1;33m=\u001b[0m\u001b[0maxis\u001b[0m\u001b[1;33m)\u001b[0m\u001b[1;33m\u001b[0m\u001b[1;33m\u001b[0m\u001b[0m\n\u001b[0m\u001b[0;32m   4818\u001b[0m \u001b[1;33m\u001b[0m\u001b[0m\n\u001b[0;32m   4819\u001b[0m \u001b[1;33m\u001b[0m\u001b[0m\n",
      "\u001b[1;32m<__array_function__ internals>\u001b[0m in \u001b[0;36mconcatenate\u001b[1;34m(*args, **kwargs)\u001b[0m\n",
      "\u001b[1;31mValueError\u001b[0m: all the input array dimensions for the concatenation axis must match exactly, but along dimension 0, the array at index 0 has size 34065 and the array at index 1 has size 1"
     ]
    }
   ],
   "source": [
    "np.append(kdf, y_train.to_numpy(), axis=1)\n",
    "kdf"
   ]
  },
  {
   "cell_type": "code",
   "execution_count": 103,
   "id": "09693c51",
   "metadata": {},
   "outputs": [
    {
     "ename": "ValueError",
     "evalue": "'c' argument has 34065 elements, which is inconsistent with 'x' and 'y' with size 4987.",
     "output_type": "error",
     "traceback": [
      "\u001b[1;31m---------------------------------------------------------------------------\u001b[0m",
      "\u001b[1;31mValueError\u001b[0m                                Traceback (most recent call last)",
      "\u001b[1;32m~\\AppData\\Local\\Temp/ipykernel_22328/1016670904.py\u001b[0m in \u001b[0;36m<module>\u001b[1;34m\u001b[0m\n\u001b[0;32m      9\u001b[0m \u001b[1;33m\u001b[0m\u001b[0m\n\u001b[0;32m     10\u001b[0m \u001b[1;32mfor\u001b[0m \u001b[0mi\u001b[0m \u001b[1;32min\u001b[0m \u001b[0mu_labels\u001b[0m\u001b[1;33m:\u001b[0m\u001b[1;33m\u001b[0m\u001b[1;33m\u001b[0m\u001b[0m\n\u001b[1;32m---> 11\u001b[1;33m     \u001b[0mplt\u001b[0m\u001b[1;33m.\u001b[0m\u001b[0mscatter\u001b[0m\u001b[1;33m(\u001b[0m\u001b[0mkdf\u001b[0m\u001b[1;33m[\u001b[0m\u001b[0mlabel\u001b[0m \u001b[1;33m==\u001b[0m \u001b[0mi\u001b[0m \u001b[1;33m,\u001b[0m \u001b[1;36m0\u001b[0m\u001b[1;33m]\u001b[0m \u001b[1;33m,\u001b[0m \u001b[0mkdf\u001b[0m\u001b[1;33m[\u001b[0m\u001b[0mlabel\u001b[0m \u001b[1;33m==\u001b[0m \u001b[0mi\u001b[0m \u001b[1;33m,\u001b[0m \u001b[1;36m1\u001b[0m\u001b[1;33m]\u001b[0m \u001b[1;33m,\u001b[0m \u001b[0mc\u001b[0m\u001b[1;33m=\u001b[0m\u001b[1;33m[\u001b[0m\u001b[0mcmap\u001b[0m\u001b[1;33m.\u001b[0m\u001b[0mget\u001b[0m\u001b[1;33m(\u001b[0m\u001b[0mc\u001b[0m\u001b[1;33m,\u001b[0m \u001b[1;34m'black'\u001b[0m\u001b[1;33m)\u001b[0m \u001b[1;32mfor\u001b[0m \u001b[0mc\u001b[0m \u001b[1;32min\u001b[0m \u001b[0my_train\u001b[0m\u001b[1;33m]\u001b[0m\u001b[1;33m)\u001b[0m\u001b[1;33m\u001b[0m\u001b[1;33m\u001b[0m\u001b[0m\n\u001b[0m\u001b[0;32m     12\u001b[0m \u001b[0mplt\u001b[0m\u001b[1;33m.\u001b[0m\u001b[0mlegend\u001b[0m\u001b[1;33m(\u001b[0m\u001b[1;33m)\u001b[0m\u001b[1;33m\u001b[0m\u001b[1;33m\u001b[0m\u001b[0m\n\u001b[0;32m     13\u001b[0m \u001b[0mplt\u001b[0m\u001b[1;33m.\u001b[0m\u001b[0mshow\u001b[0m\u001b[1;33m(\u001b[0m\u001b[1;33m)\u001b[0m\u001b[1;33m\u001b[0m\u001b[1;33m\u001b[0m\u001b[0m\n",
      "\u001b[1;32m~\\anaconda3\\envs\\lab_automation\\lib\\site-packages\\matplotlib\\pyplot.py\u001b[0m in \u001b[0;36mscatter\u001b[1;34m(x, y, s, c, marker, cmap, norm, vmin, vmax, alpha, linewidths, edgecolors, plotnonfinite, data, **kwargs)\u001b[0m\n\u001b[0;32m   2805\u001b[0m         \u001b[0mvmin\u001b[0m\u001b[1;33m=\u001b[0m\u001b[1;32mNone\u001b[0m\u001b[1;33m,\u001b[0m \u001b[0mvmax\u001b[0m\u001b[1;33m=\u001b[0m\u001b[1;32mNone\u001b[0m\u001b[1;33m,\u001b[0m \u001b[0malpha\u001b[0m\u001b[1;33m=\u001b[0m\u001b[1;32mNone\u001b[0m\u001b[1;33m,\u001b[0m \u001b[0mlinewidths\u001b[0m\u001b[1;33m=\u001b[0m\u001b[1;32mNone\u001b[0m\u001b[1;33m,\u001b[0m \u001b[1;33m*\u001b[0m\u001b[1;33m,\u001b[0m\u001b[1;33m\u001b[0m\u001b[1;33m\u001b[0m\u001b[0m\n\u001b[0;32m   2806\u001b[0m         edgecolors=None, plotnonfinite=False, data=None, **kwargs):\n\u001b[1;32m-> 2807\u001b[1;33m     __ret = gca().scatter(\n\u001b[0m\u001b[0;32m   2808\u001b[0m         \u001b[0mx\u001b[0m\u001b[1;33m,\u001b[0m \u001b[0my\u001b[0m\u001b[1;33m,\u001b[0m \u001b[0ms\u001b[0m\u001b[1;33m=\u001b[0m\u001b[0ms\u001b[0m\u001b[1;33m,\u001b[0m \u001b[0mc\u001b[0m\u001b[1;33m=\u001b[0m\u001b[0mc\u001b[0m\u001b[1;33m,\u001b[0m \u001b[0mmarker\u001b[0m\u001b[1;33m=\u001b[0m\u001b[0mmarker\u001b[0m\u001b[1;33m,\u001b[0m \u001b[0mcmap\u001b[0m\u001b[1;33m=\u001b[0m\u001b[0mcmap\u001b[0m\u001b[1;33m,\u001b[0m \u001b[0mnorm\u001b[0m\u001b[1;33m=\u001b[0m\u001b[0mnorm\u001b[0m\u001b[1;33m,\u001b[0m\u001b[1;33m\u001b[0m\u001b[1;33m\u001b[0m\u001b[0m\n\u001b[0;32m   2809\u001b[0m         \u001b[0mvmin\u001b[0m\u001b[1;33m=\u001b[0m\u001b[0mvmin\u001b[0m\u001b[1;33m,\u001b[0m \u001b[0mvmax\u001b[0m\u001b[1;33m=\u001b[0m\u001b[0mvmax\u001b[0m\u001b[1;33m,\u001b[0m \u001b[0malpha\u001b[0m\u001b[1;33m=\u001b[0m\u001b[0malpha\u001b[0m\u001b[1;33m,\u001b[0m \u001b[0mlinewidths\u001b[0m\u001b[1;33m=\u001b[0m\u001b[0mlinewidths\u001b[0m\u001b[1;33m,\u001b[0m\u001b[1;33m\u001b[0m\u001b[1;33m\u001b[0m\u001b[0m\n",
      "\u001b[1;32m~\\anaconda3\\envs\\lab_automation\\lib\\site-packages\\matplotlib\\__init__.py\u001b[0m in \u001b[0;36minner\u001b[1;34m(ax, data, *args, **kwargs)\u001b[0m\n\u001b[0;32m   1410\u001b[0m     \u001b[1;32mdef\u001b[0m \u001b[0minner\u001b[0m\u001b[1;33m(\u001b[0m\u001b[0max\u001b[0m\u001b[1;33m,\u001b[0m \u001b[1;33m*\u001b[0m\u001b[0margs\u001b[0m\u001b[1;33m,\u001b[0m \u001b[0mdata\u001b[0m\u001b[1;33m=\u001b[0m\u001b[1;32mNone\u001b[0m\u001b[1;33m,\u001b[0m \u001b[1;33m**\u001b[0m\u001b[0mkwargs\u001b[0m\u001b[1;33m)\u001b[0m\u001b[1;33m:\u001b[0m\u001b[1;33m\u001b[0m\u001b[1;33m\u001b[0m\u001b[0m\n\u001b[0;32m   1411\u001b[0m         \u001b[1;32mif\u001b[0m \u001b[0mdata\u001b[0m \u001b[1;32mis\u001b[0m \u001b[1;32mNone\u001b[0m\u001b[1;33m:\u001b[0m\u001b[1;33m\u001b[0m\u001b[1;33m\u001b[0m\u001b[0m\n\u001b[1;32m-> 1412\u001b[1;33m             \u001b[1;32mreturn\u001b[0m \u001b[0mfunc\u001b[0m\u001b[1;33m(\u001b[0m\u001b[0max\u001b[0m\u001b[1;33m,\u001b[0m \u001b[1;33m*\u001b[0m\u001b[0mmap\u001b[0m\u001b[1;33m(\u001b[0m\u001b[0msanitize_sequence\u001b[0m\u001b[1;33m,\u001b[0m \u001b[0margs\u001b[0m\u001b[1;33m)\u001b[0m\u001b[1;33m,\u001b[0m \u001b[1;33m**\u001b[0m\u001b[0mkwargs\u001b[0m\u001b[1;33m)\u001b[0m\u001b[1;33m\u001b[0m\u001b[1;33m\u001b[0m\u001b[0m\n\u001b[0m\u001b[0;32m   1413\u001b[0m \u001b[1;33m\u001b[0m\u001b[0m\n\u001b[0;32m   1414\u001b[0m         \u001b[0mbound\u001b[0m \u001b[1;33m=\u001b[0m \u001b[0mnew_sig\u001b[0m\u001b[1;33m.\u001b[0m\u001b[0mbind\u001b[0m\u001b[1;33m(\u001b[0m\u001b[0max\u001b[0m\u001b[1;33m,\u001b[0m \u001b[1;33m*\u001b[0m\u001b[0margs\u001b[0m\u001b[1;33m,\u001b[0m \u001b[1;33m**\u001b[0m\u001b[0mkwargs\u001b[0m\u001b[1;33m)\u001b[0m\u001b[1;33m\u001b[0m\u001b[1;33m\u001b[0m\u001b[0m\n",
      "\u001b[1;32m~\\anaconda3\\envs\\lab_automation\\lib\\site-packages\\matplotlib\\axes\\_axes.py\u001b[0m in \u001b[0;36mscatter\u001b[1;34m(self, x, y, s, c, marker, cmap, norm, vmin, vmax, alpha, linewidths, edgecolors, plotnonfinite, **kwargs)\u001b[0m\n\u001b[0;32m   4339\u001b[0m             \u001b[0morig_edgecolor\u001b[0m \u001b[1;33m=\u001b[0m \u001b[0mkwargs\u001b[0m\u001b[1;33m.\u001b[0m\u001b[0mget\u001b[0m\u001b[1;33m(\u001b[0m\u001b[1;34m'edgecolor'\u001b[0m\u001b[1;33m,\u001b[0m \u001b[1;32mNone\u001b[0m\u001b[1;33m)\u001b[0m\u001b[1;33m\u001b[0m\u001b[1;33m\u001b[0m\u001b[0m\n\u001b[0;32m   4340\u001b[0m         \u001b[0mc\u001b[0m\u001b[1;33m,\u001b[0m \u001b[0mcolors\u001b[0m\u001b[1;33m,\u001b[0m \u001b[0medgecolors\u001b[0m \u001b[1;33m=\u001b[0m\u001b[0;31m \u001b[0m\u001b[0;31m\\\u001b[0m\u001b[1;33m\u001b[0m\u001b[1;33m\u001b[0m\u001b[0m\n\u001b[1;32m-> 4341\u001b[1;33m             self._parse_scatter_color_args(\n\u001b[0m\u001b[0;32m   4342\u001b[0m                 \u001b[0mc\u001b[0m\u001b[1;33m,\u001b[0m \u001b[0medgecolors\u001b[0m\u001b[1;33m,\u001b[0m \u001b[0mkwargs\u001b[0m\u001b[1;33m,\u001b[0m \u001b[0mx\u001b[0m\u001b[1;33m.\u001b[0m\u001b[0msize\u001b[0m\u001b[1;33m,\u001b[0m\u001b[1;33m\u001b[0m\u001b[1;33m\u001b[0m\u001b[0m\n\u001b[0;32m   4343\u001b[0m                 get_next_color_func=self._get_patches_for_fill.get_next_color)\n",
      "\u001b[1;32m~\\anaconda3\\envs\\lab_automation\\lib\\site-packages\\matplotlib\\axes\\_axes.py\u001b[0m in \u001b[0;36m_parse_scatter_color_args\u001b[1;34m(c, edgecolors, kwargs, xsize, get_next_color_func)\u001b[0m\n\u001b[0;32m   4189\u001b[0m                     \u001b[1;31m# NB: remember that a single color is also acceptable.\u001b[0m\u001b[1;33m\u001b[0m\u001b[1;33m\u001b[0m\u001b[0m\n\u001b[0;32m   4190\u001b[0m                     \u001b[1;31m# Besides *colors* will be an empty array if c == 'none'.\u001b[0m\u001b[1;33m\u001b[0m\u001b[1;33m\u001b[0m\u001b[0m\n\u001b[1;32m-> 4191\u001b[1;33m                     \u001b[1;32mraise\u001b[0m \u001b[0minvalid_shape_exception\u001b[0m\u001b[1;33m(\u001b[0m\u001b[0mlen\u001b[0m\u001b[1;33m(\u001b[0m\u001b[0mcolors\u001b[0m\u001b[1;33m)\u001b[0m\u001b[1;33m,\u001b[0m \u001b[0mxsize\u001b[0m\u001b[1;33m)\u001b[0m\u001b[1;33m\u001b[0m\u001b[1;33m\u001b[0m\u001b[0m\n\u001b[0m\u001b[0;32m   4192\u001b[0m         \u001b[1;32melse\u001b[0m\u001b[1;33m:\u001b[0m\u001b[1;33m\u001b[0m\u001b[1;33m\u001b[0m\u001b[0m\n\u001b[0;32m   4193\u001b[0m             \u001b[0mcolors\u001b[0m \u001b[1;33m=\u001b[0m \u001b[1;32mNone\u001b[0m  \u001b[1;31m# use cmap, norm after collection is created\u001b[0m\u001b[1;33m\u001b[0m\u001b[1;33m\u001b[0m\u001b[0m\n",
      "\u001b[1;31mValueError\u001b[0m: 'c' argument has 34065 elements, which is inconsistent with 'x' and 'y' with size 4987."
     ]
    },
    {
     "data": {
      "image/png": "[encoded data removed]",
      "text/plain": [
       "<Figure size 432x288 with 1 Axes>"
      ]
     },
     "metadata": {},
     "output_type": "display_data"
    }
   ],
   "source": [
    "#Getting unique labels\n",
    " \n",
    "u_labels = np.unique(label)\n",
    "\n",
    "cmap = {'Normal': 'green', 'Air blockage': 'red', 'Air leakage':'red', 'Diverted flow':'red', 'Slugging': 'yellow'}\n",
    "\n",
    " \n",
    "#plotting the results:\n",
    " \n",
    "for i in u_labels:\n",
    "    \n",
    "    plt.scatter(kdf[label == i , 0] , kdf[label == i , 1] , c=[cmap.get(c, 'black') for c in y_train])\n",
    "plt.legend()\n",
    "plt.show()"
   ]
  },
  {
   "cell_type": "code",
   "execution_count": null,
   "id": "fb8995cd",
   "metadata": {},
   "outputs": [],
   "source": []
  }
 ],
 "metadata": {
  "kernelspec": {
   "display_name": "Python 3 (ipykernel)",
   "language": "python",
   "name": "python3"
  },
  "language_info": {
   "codemirror_mode": {
    "name": "ipython",
    "version": 3
   },
   "file_extension": ".py",
   "mimetype": "text/x-python",
   "name": "python",
   "nbconvert_exporter": "python",
   "pygments_lexer": "ipython3",
   "version": "3.9.7"
  }
 },
 "nbformat": 4,
 "nbformat_minor": 5
}
